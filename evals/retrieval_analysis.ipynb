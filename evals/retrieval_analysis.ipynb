{
 "cells": [
  {
   "cell_type": "code",
   "execution_count": 19,
   "id": "616bb864-f2d5-4b42-bd00-12ea558786f2",
   "metadata": {},
   "outputs": [],
   "source": [
    "import pandas as pd\n",
    "import plotly.express as px\n",
    "from plotly.subplots import make_subplots\n",
    "import os"
   ]
  },
  {
   "cell_type": "code",
   "execution_count": 50,
   "id": "98175a28-2d5c-4f5f-93fc-ce0243328c8a",
   "metadata": {},
   "outputs": [
    {
     "data": {
      "text/html": [
       "<div>\n",
       "<style scoped>\n",
       "    .dataframe tbody tr th:only-of-type {\n",
       "        vertical-align: middle;\n",
       "    }\n",
       "\n",
       "    .dataframe tbody tr th {\n",
       "        vertical-align: top;\n",
       "    }\n",
       "\n",
       "    .dataframe thead th {\n",
       "        text-align: right;\n",
       "    }\n",
       "</style>\n",
       "<table border=\"1\" class=\"dataframe\">\n",
       "  <thead>\n",
       "    <tr style=\"text-align: right;\">\n",
       "      <th></th>\n",
       "      <th>chunk</th>\n",
       "      <th>search</th>\n",
       "      <th>expand</th>\n",
       "      <th>lim</th>\n",
       "      <th>len_context</th>\n",
       "      <th>recall</th>\n",
       "      <th>recall/context</th>\n",
       "    </tr>\n",
       "  </thead>\n",
       "  <tbody>\n",
       "    <tr>\n",
       "      <th>0</th>\n",
       "      <td>390000</td>\n",
       "      <td>semantic</td>\n",
       "      <td>0</td>\n",
       "      <td>1</td>\n",
       "      <td>271641</td>\n",
       "      <td>0.46</td>\n",
       "      <td>1.690000e-06</td>\n",
       "    </tr>\n",
       "    <tr>\n",
       "      <th>1</th>\n",
       "      <td>390000</td>\n",
       "      <td>semantic</td>\n",
       "      <td>1</td>\n",
       "      <td>1</td>\n",
       "      <td>679813</td>\n",
       "      <td>0.50</td>\n",
       "      <td>7.400000e-07</td>\n",
       "    </tr>\n",
       "    <tr>\n",
       "      <th>2</th>\n",
       "      <td>390000</td>\n",
       "      <td>semantic</td>\n",
       "      <td>2</td>\n",
       "      <td>1</td>\n",
       "      <td>1082800</td>\n",
       "      <td>0.52</td>\n",
       "      <td>4.800000e-07</td>\n",
       "    </tr>\n",
       "    <tr>\n",
       "      <th>3</th>\n",
       "      <td>390000</td>\n",
       "      <td>semantic</td>\n",
       "      <td>0</td>\n",
       "      <td>2</td>\n",
       "      <td>542733</td>\n",
       "      <td>0.55</td>\n",
       "      <td>1.010000e-06</td>\n",
       "    </tr>\n",
       "    <tr>\n",
       "      <th>4</th>\n",
       "      <td>390000</td>\n",
       "      <td>semantic</td>\n",
       "      <td>1</td>\n",
       "      <td>2</td>\n",
       "      <td>1195600</td>\n",
       "      <td>0.59</td>\n",
       "      <td>4.900000e-07</td>\n",
       "    </tr>\n",
       "    <tr>\n",
       "      <th>5</th>\n",
       "      <td>390000</td>\n",
       "      <td>semantic</td>\n",
       "      <td>2</td>\n",
       "      <td>2</td>\n",
       "      <td>1833439</td>\n",
       "      <td>0.62</td>\n",
       "      <td>3.400000e-07</td>\n",
       "    </tr>\n",
       "    <tr>\n",
       "      <th>6</th>\n",
       "      <td>390000</td>\n",
       "      <td>semantic</td>\n",
       "      <td>0</td>\n",
       "      <td>3</td>\n",
       "      <td>802144</td>\n",
       "      <td>0.60</td>\n",
       "      <td>7.500000e-07</td>\n",
       "    </tr>\n",
       "    <tr>\n",
       "      <th>7</th>\n",
       "      <td>390000</td>\n",
       "      <td>semantic</td>\n",
       "      <td>1</td>\n",
       "      <td>3</td>\n",
       "      <td>1668870</td>\n",
       "      <td>0.64</td>\n",
       "      <td>3.800000e-07</td>\n",
       "    </tr>\n",
       "    <tr>\n",
       "      <th>8</th>\n",
       "      <td>390000</td>\n",
       "      <td>semantic</td>\n",
       "      <td>2</td>\n",
       "      <td>3</td>\n",
       "      <td>2504310</td>\n",
       "      <td>0.66</td>\n",
       "      <td>2.600000e-07</td>\n",
       "    </tr>\n",
       "    <tr>\n",
       "      <th>9</th>\n",
       "      <td>390000</td>\n",
       "      <td>semantic</td>\n",
       "      <td>0</td>\n",
       "      <td>4</td>\n",
       "      <td>1052255</td>\n",
       "      <td>0.63</td>\n",
       "      <td>6.000000e-07</td>\n",
       "    </tr>\n",
       "    <tr>\n",
       "      <th>10</th>\n",
       "      <td>390000</td>\n",
       "      <td>semantic</td>\n",
       "      <td>1</td>\n",
       "      <td>4</td>\n",
       "      <td>2120119</td>\n",
       "      <td>0.66</td>\n",
       "      <td>3.100000e-07</td>\n",
       "    </tr>\n",
       "    <tr>\n",
       "      <th>11</th>\n",
       "      <td>390000</td>\n",
       "      <td>semantic</td>\n",
       "      <td>2</td>\n",
       "      <td>4</td>\n",
       "      <td>3141017</td>\n",
       "      <td>0.68</td>\n",
       "      <td>2.200000e-07</td>\n",
       "    </tr>\n",
       "    <tr>\n",
       "      <th>12</th>\n",
       "      <td>390000</td>\n",
       "      <td>semantic</td>\n",
       "      <td>0</td>\n",
       "      <td>5</td>\n",
       "      <td>1288690</td>\n",
       "      <td>0.66</td>\n",
       "      <td>5.100000e-07</td>\n",
       "    </tr>\n",
       "    <tr>\n",
       "      <th>13</th>\n",
       "      <td>390000</td>\n",
       "      <td>semantic</td>\n",
       "      <td>1</td>\n",
       "      <td>5</td>\n",
       "      <td>2602518</td>\n",
       "      <td>0.68</td>\n",
       "      <td>2.600000e-07</td>\n",
       "    </tr>\n",
       "    <tr>\n",
       "      <th>14</th>\n",
       "      <td>390000</td>\n",
       "      <td>semantic</td>\n",
       "      <td>2</td>\n",
       "      <td>5</td>\n",
       "      <td>3802165</td>\n",
       "      <td>0.70</td>\n",
       "      <td>1.800000e-07</td>\n",
       "    </tr>\n",
       "    <tr>\n",
       "      <th>15</th>\n",
       "      <td>390000</td>\n",
       "      <td>semantic</td>\n",
       "      <td>0</td>\n",
       "      <td>6</td>\n",
       "      <td>1523111</td>\n",
       "      <td>0.67</td>\n",
       "      <td>4.400000e-07</td>\n",
       "    </tr>\n",
       "    <tr>\n",
       "      <th>16</th>\n",
       "      <td>390000</td>\n",
       "      <td>semantic</td>\n",
       "      <td>1</td>\n",
       "      <td>6</td>\n",
       "      <td>3051403</td>\n",
       "      <td>0.69</td>\n",
       "      <td>2.300000e-07</td>\n",
       "    </tr>\n",
       "    <tr>\n",
       "      <th>17</th>\n",
       "      <td>390000</td>\n",
       "      <td>semantic</td>\n",
       "      <td>2</td>\n",
       "      <td>6</td>\n",
       "      <td>4402041</td>\n",
       "      <td>0.71</td>\n",
       "      <td>1.600000e-07</td>\n",
       "    </tr>\n",
       "  </tbody>\n",
       "</table>\n",
       "</div>"
      ],
      "text/plain": [
       "     chunk    search  expand  lim  len_context  recall  recall/context\n",
       "0   390000  semantic       0    1       271641    0.46    1.690000e-06\n",
       "1   390000  semantic       1    1       679813    0.50    7.400000e-07\n",
       "2   390000  semantic       2    1      1082800    0.52    4.800000e-07\n",
       "3   390000  semantic       0    2       542733    0.55    1.010000e-06\n",
       "4   390000  semantic       1    2      1195600    0.59    4.900000e-07\n",
       "5   390000  semantic       2    2      1833439    0.62    3.400000e-07\n",
       "6   390000  semantic       0    3       802144    0.60    7.500000e-07\n",
       "7   390000  semantic       1    3      1668870    0.64    3.800000e-07\n",
       "8   390000  semantic       2    3      2504310    0.66    2.600000e-07\n",
       "9   390000  semantic       0    4      1052255    0.63    6.000000e-07\n",
       "10  390000  semantic       1    4      2120119    0.66    3.100000e-07\n",
       "11  390000  semantic       2    4      3141017    0.68    2.200000e-07\n",
       "12  390000  semantic       0    5      1288690    0.66    5.100000e-07\n",
       "13  390000  semantic       1    5      2602518    0.68    2.600000e-07\n",
       "14  390000  semantic       2    5      3802165    0.70    1.800000e-07\n",
       "15  390000  semantic       0    6      1523111    0.67    4.400000e-07\n",
       "16  390000  semantic       1    6      3051403    0.69    2.300000e-07\n",
       "17  390000  semantic       2    6      4402041    0.71    1.600000e-07"
      ]
     },
     "execution_count": 50,
     "metadata": {},
     "output_type": "execute_result"
    }
   ],
   "source": [
    "folder = \"results\"\n",
    "files = os.listdir(folder)\n",
    "\n",
    "df = pd.DataFrame()\n",
    "for file in files:\n",
    "    chunk = file.split(\"chunk-\")[1].split(\"_\")[0]\n",
    "    chunk = int(chunk)\n",
    "    search = file.split(\"search-\")[1].split(\"_\")[0]\n",
    "    lim = file.split(\"lim-\")[1].split(\"_\")[0]\n",
    "    expand = file.split(\"expand-\")[1].split(\".\")[0]\n",
    "\n",
    "    temp_df = pd.read_csv(os.path.join(folder, file))\n",
    "    temp_df[\"chunk\"] = chunk\n",
    "    temp_df[\"search\"] = search\n",
    "    temp_df[\"lim\"] = int(lim)\n",
    "    temp_df[\"expand\"] = int(expand)\n",
    "    df = pd.concat([df, temp_df])\n",
    "    df = df.reset_index(drop=True)\n",
    "\n",
    "\n",
    "df_summary = df.groupby([\"search\", \"lim\", \"expand\"]).sum()\n",
    "df_summary = df_summary.reset_index()\n",
    "\n",
    "df_summary[\"recall\"] = (df_summary[\"n_retrieved_rules\"] / df_summary[\"n_target_rules\"]).round(2)\n",
    "df_summary[\"recall/context\"] = (df_summary[\"recall\"] / df_summary[\"len_context\"]).round(8)\n",
    "\n",
    "\n",
    "column_orders = [\"chunk\", \"search\", \"expand\", \"lim\", \"len_context\", \"recall\", \"recall/context\"]\n",
    "df_summary[column_orders]"
   ]
  },
  {
   "cell_type": "code",
   "execution_count": 49,
   "id": "3a767231",
   "metadata": {},
   "outputs": [
    {
     "data": {
      "application/vnd.plotly.v1+json": {
       "config": {
        "plotlyServerURL": "https://plot.ly"
       },
       "data": [
        {
         "hovertemplate": "expand=0<br>lim=%{x}<br>recall=%{y}<extra></extra>",
         "legendgroup": "0",
         "line": {
          "color": "#636efa",
          "dash": "solid"
         },
         "marker": {
          "symbol": "circle"
         },
         "mode": "lines+markers",
         "name": "0",
         "orientation": "v",
         "showlegend": true,
         "type": "scatter",
         "x": [
          1,
          2,
          3,
          4,
          5,
          6
         ],
         "xaxis": "x",
         "y": [
          0.46,
          0.55,
          0.6,
          0.63,
          0.66,
          0.67
         ],
         "yaxis": "y"
        },
        {
         "hovertemplate": "expand=0<br>lim=%{x}<br>len_context=%{y}<extra></extra>",
         "legendgroup": "0",
         "line": {
          "color": "#636efa",
          "dash": "solid"
         },
         "marker": {
          "symbol": "circle"
         },
         "mode": "lines+markers",
         "name": "0",
         "orientation": "v",
         "showlegend": false,
         "type": "scatter",
         "x": [
          1,
          2,
          3,
          4,
          5,
          6
         ],
         "xaxis": "x2",
         "y": [
          271641,
          542733,
          802144,
          1052255,
          1288690,
          1523111
         ],
         "yaxis": "y2"
        },
        {
         "hovertemplate": "expand=0<br>lim=%{x}<br>recall/context=%{y}<extra></extra>",
         "legendgroup": "0",
         "line": {
          "color": "#636efa",
          "dash": "solid"
         },
         "marker": {
          "symbol": "circle"
         },
         "mode": "lines+markers",
         "name": "0",
         "orientation": "v",
         "showlegend": false,
         "type": "scatter",
         "x": [
          1,
          2,
          3,
          4,
          5,
          6
         ],
         "xaxis": "x3",
         "y": [
          0.00000169,
          0.00000101,
          7.5e-7,
          6e-7,
          5.1e-7,
          4.4e-7
         ],
         "yaxis": "y3"
        },
        {
         "hovertemplate": "expand=1<br>lim=%{x}<br>recall=%{y}<extra></extra>",
         "legendgroup": "1",
         "line": {
          "color": "#EF553B",
          "dash": "solid"
         },
         "marker": {
          "symbol": "circle"
         },
         "mode": "lines+markers",
         "name": "1",
         "orientation": "v",
         "showlegend": true,
         "type": "scatter",
         "x": [
          1,
          2,
          3,
          4,
          5,
          6
         ],
         "xaxis": "x",
         "y": [
          0.5,
          0.59,
          0.64,
          0.66,
          0.68,
          0.69
         ],
         "yaxis": "y"
        },
        {
         "hovertemplate": "expand=1<br>lim=%{x}<br>len_context=%{y}<extra></extra>",
         "legendgroup": "1",
         "line": {
          "color": "#EF553B",
          "dash": "solid"
         },
         "marker": {
          "symbol": "circle"
         },
         "mode": "lines+markers",
         "name": "1",
         "orientation": "v",
         "showlegend": false,
         "type": "scatter",
         "x": [
          1,
          2,
          3,
          4,
          5,
          6
         ],
         "xaxis": "x2",
         "y": [
          679813,
          1195600,
          1668870,
          2120119,
          2602518,
          3051403
         ],
         "yaxis": "y2"
        },
        {
         "hovertemplate": "expand=1<br>lim=%{x}<br>recall/context=%{y}<extra></extra>",
         "legendgroup": "1",
         "line": {
          "color": "#EF553B",
          "dash": "solid"
         },
         "marker": {
          "symbol": "circle"
         },
         "mode": "lines+markers",
         "name": "1",
         "orientation": "v",
         "showlegend": false,
         "type": "scatter",
         "x": [
          1,
          2,
          3,
          4,
          5,
          6
         ],
         "xaxis": "x3",
         "y": [
          7.4e-7,
          4.9e-7,
          3.8e-7,
          3.1e-7,
          2.6e-7,
          2.3e-7
         ],
         "yaxis": "y3"
        },
        {
         "hovertemplate": "expand=2<br>lim=%{x}<br>recall=%{y}<extra></extra>",
         "legendgroup": "2",
         "line": {
          "color": "#00cc96",
          "dash": "solid"
         },
         "marker": {
          "symbol": "circle"
         },
         "mode": "lines+markers",
         "name": "2",
         "orientation": "v",
         "showlegend": true,
         "type": "scatter",
         "x": [
          1,
          2,
          3,
          4,
          5,
          6
         ],
         "xaxis": "x",
         "y": [
          0.52,
          0.62,
          0.66,
          0.68,
          0.7,
          0.71
         ],
         "yaxis": "y"
        },
        {
         "hovertemplate": "expand=2<br>lim=%{x}<br>len_context=%{y}<extra></extra>",
         "legendgroup": "2",
         "line": {
          "color": "#00cc96",
          "dash": "solid"
         },
         "marker": {
          "symbol": "circle"
         },
         "mode": "lines+markers",
         "name": "2",
         "orientation": "v",
         "showlegend": false,
         "type": "scatter",
         "x": [
          1,
          2,
          3,
          4,
          5,
          6
         ],
         "xaxis": "x2",
         "y": [
          1082800,
          1833439,
          2504310,
          3141017,
          3802165,
          4402041
         ],
         "yaxis": "y2"
        },
        {
         "hovertemplate": "expand=2<br>lim=%{x}<br>recall/context=%{y}<extra></extra>",
         "legendgroup": "2",
         "line": {
          "color": "#00cc96",
          "dash": "solid"
         },
         "marker": {
          "symbol": "circle"
         },
         "mode": "lines+markers",
         "name": "2",
         "orientation": "v",
         "showlegend": false,
         "type": "scatter",
         "x": [
          1,
          2,
          3,
          4,
          5,
          6
         ],
         "xaxis": "x3",
         "y": [
          4.8e-7,
          3.4e-7,
          2.6e-7,
          2.2e-7,
          1.8e-7,
          1.6e-7
         ],
         "yaxis": "y3"
        }
       ],
       "layout": {
        "annotations": [
         {
          "font": {
           "size": 16
          },
          "showarrow": false,
          "text": "Recall vs Limit",
          "x": 0.5,
          "xanchor": "center",
          "xref": "paper",
          "y": 1,
          "yanchor": "bottom",
          "yref": "paper"
         },
         {
          "font": {
           "size": 16
          },
          "showarrow": false,
          "text": "Context Length vs Limit",
          "x": 0.5,
          "xanchor": "center",
          "xref": "paper",
          "y": 0.6111111111111112,
          "yanchor": "bottom",
          "yref": "paper"
         },
         {
          "font": {
           "size": 16
          },
          "showarrow": false,
          "text": "Recall / Context Length vs Limit",
          "x": 0.5,
          "xanchor": "center",
          "xref": "paper",
          "y": 0.22222222222222224,
          "yanchor": "bottom",
          "yref": "paper"
         }
        ],
        "height": 800,
        "legend": {
         "title": {
          "text": "Expand Setting"
         }
        },
        "template": {
         "data": {
          "bar": [
           {
            "error_x": {
             "color": "#f2f5fa"
            },
            "error_y": {
             "color": "#f2f5fa"
            },
            "marker": {
             "line": {
              "color": "rgb(17,17,17)",
              "width": 0.5
             },
             "pattern": {
              "fillmode": "overlay",
              "size": 10,
              "solidity": 0.2
             }
            },
            "type": "bar"
           }
          ],
          "barpolar": [
           {
            "marker": {
             "line": {
              "color": "rgb(17,17,17)",
              "width": 0.5
             },
             "pattern": {
              "fillmode": "overlay",
              "size": 10,
              "solidity": 0.2
             }
            },
            "type": "barpolar"
           }
          ],
          "carpet": [
           {
            "aaxis": {
             "endlinecolor": "#A2B1C6",
             "gridcolor": "#506784",
             "linecolor": "#506784",
             "minorgridcolor": "#506784",
             "startlinecolor": "#A2B1C6"
            },
            "baxis": {
             "endlinecolor": "#A2B1C6",
             "gridcolor": "#506784",
             "linecolor": "#506784",
             "minorgridcolor": "#506784",
             "startlinecolor": "#A2B1C6"
            },
            "type": "carpet"
           }
          ],
          "choropleth": [
           {
            "colorbar": {
             "outlinewidth": 0,
             "ticks": ""
            },
            "type": "choropleth"
           }
          ],
          "contour": [
           {
            "colorbar": {
             "outlinewidth": 0,
             "ticks": ""
            },
            "colorscale": [
             [
              0,
              "#0d0887"
             ],
             [
              0.1111111111111111,
              "#46039f"
             ],
             [
              0.2222222222222222,
              "#7201a8"
             ],
             [
              0.3333333333333333,
              "#9c179e"
             ],
             [
              0.4444444444444444,
              "#bd3786"
             ],
             [
              0.5555555555555556,
              "#d8576b"
             ],
             [
              0.6666666666666666,
              "#ed7953"
             ],
             [
              0.7777777777777778,
              "#fb9f3a"
             ],
             [
              0.8888888888888888,
              "#fdca26"
             ],
             [
              1,
              "#f0f921"
             ]
            ],
            "type": "contour"
           }
          ],
          "contourcarpet": [
           {
            "colorbar": {
             "outlinewidth": 0,
             "ticks": ""
            },
            "type": "contourcarpet"
           }
          ],
          "heatmap": [
           {
            "colorbar": {
             "outlinewidth": 0,
             "ticks": ""
            },
            "colorscale": [
             [
              0,
              "#0d0887"
             ],
             [
              0.1111111111111111,
              "#46039f"
             ],
             [
              0.2222222222222222,
              "#7201a8"
             ],
             [
              0.3333333333333333,
              "#9c179e"
             ],
             [
              0.4444444444444444,
              "#bd3786"
             ],
             [
              0.5555555555555556,
              "#d8576b"
             ],
             [
              0.6666666666666666,
              "#ed7953"
             ],
             [
              0.7777777777777778,
              "#fb9f3a"
             ],
             [
              0.8888888888888888,
              "#fdca26"
             ],
             [
              1,
              "#f0f921"
             ]
            ],
            "type": "heatmap"
           }
          ],
          "heatmapgl": [
           {
            "colorbar": {
             "outlinewidth": 0,
             "ticks": ""
            },
            "colorscale": [
             [
              0,
              "#0d0887"
             ],
             [
              0.1111111111111111,
              "#46039f"
             ],
             [
              0.2222222222222222,
              "#7201a8"
             ],
             [
              0.3333333333333333,
              "#9c179e"
             ],
             [
              0.4444444444444444,
              "#bd3786"
             ],
             [
              0.5555555555555556,
              "#d8576b"
             ],
             [
              0.6666666666666666,
              "#ed7953"
             ],
             [
              0.7777777777777778,
              "#fb9f3a"
             ],
             [
              0.8888888888888888,
              "#fdca26"
             ],
             [
              1,
              "#f0f921"
             ]
            ],
            "type": "heatmapgl"
           }
          ],
          "histogram": [
           {
            "marker": {
             "pattern": {
              "fillmode": "overlay",
              "size": 10,
              "solidity": 0.2
             }
            },
            "type": "histogram"
           }
          ],
          "histogram2d": [
           {
            "colorbar": {
             "outlinewidth": 0,
             "ticks": ""
            },
            "colorscale": [
             [
              0,
              "#0d0887"
             ],
             [
              0.1111111111111111,
              "#46039f"
             ],
             [
              0.2222222222222222,
              "#7201a8"
             ],
             [
              0.3333333333333333,
              "#9c179e"
             ],
             [
              0.4444444444444444,
              "#bd3786"
             ],
             [
              0.5555555555555556,
              "#d8576b"
             ],
             [
              0.6666666666666666,
              "#ed7953"
             ],
             [
              0.7777777777777778,
              "#fb9f3a"
             ],
             [
              0.8888888888888888,
              "#fdca26"
             ],
             [
              1,
              "#f0f921"
             ]
            ],
            "type": "histogram2d"
           }
          ],
          "histogram2dcontour": [
           {
            "colorbar": {
             "outlinewidth": 0,
             "ticks": ""
            },
            "colorscale": [
             [
              0,
              "#0d0887"
             ],
             [
              0.1111111111111111,
              "#46039f"
             ],
             [
              0.2222222222222222,
              "#7201a8"
             ],
             [
              0.3333333333333333,
              "#9c179e"
             ],
             [
              0.4444444444444444,
              "#bd3786"
             ],
             [
              0.5555555555555556,
              "#d8576b"
             ],
             [
              0.6666666666666666,
              "#ed7953"
             ],
             [
              0.7777777777777778,
              "#fb9f3a"
             ],
             [
              0.8888888888888888,
              "#fdca26"
             ],
             [
              1,
              "#f0f921"
             ]
            ],
            "type": "histogram2dcontour"
           }
          ],
          "mesh3d": [
           {
            "colorbar": {
             "outlinewidth": 0,
             "ticks": ""
            },
            "type": "mesh3d"
           }
          ],
          "parcoords": [
           {
            "line": {
             "colorbar": {
              "outlinewidth": 0,
              "ticks": ""
             }
            },
            "type": "parcoords"
           }
          ],
          "pie": [
           {
            "automargin": true,
            "type": "pie"
           }
          ],
          "scatter": [
           {
            "marker": {
             "line": {
              "color": "#283442"
             }
            },
            "type": "scatter"
           }
          ],
          "scatter3d": [
           {
            "line": {
             "colorbar": {
              "outlinewidth": 0,
              "ticks": ""
             }
            },
            "marker": {
             "colorbar": {
              "outlinewidth": 0,
              "ticks": ""
             }
            },
            "type": "scatter3d"
           }
          ],
          "scattercarpet": [
           {
            "marker": {
             "colorbar": {
              "outlinewidth": 0,
              "ticks": ""
             }
            },
            "type": "scattercarpet"
           }
          ],
          "scattergeo": [
           {
            "marker": {
             "colorbar": {
              "outlinewidth": 0,
              "ticks": ""
             }
            },
            "type": "scattergeo"
           }
          ],
          "scattergl": [
           {
            "marker": {
             "line": {
              "color": "#283442"
             }
            },
            "type": "scattergl"
           }
          ],
          "scattermapbox": [
           {
            "marker": {
             "colorbar": {
              "outlinewidth": 0,
              "ticks": ""
             }
            },
            "type": "scattermapbox"
           }
          ],
          "scatterpolar": [
           {
            "marker": {
             "colorbar": {
              "outlinewidth": 0,
              "ticks": ""
             }
            },
            "type": "scatterpolar"
           }
          ],
          "scatterpolargl": [
           {
            "marker": {
             "colorbar": {
              "outlinewidth": 0,
              "ticks": ""
             }
            },
            "type": "scatterpolargl"
           }
          ],
          "scatterternary": [
           {
            "marker": {
             "colorbar": {
              "outlinewidth": 0,
              "ticks": ""
             }
            },
            "type": "scatterternary"
           }
          ],
          "surface": [
           {
            "colorbar": {
             "outlinewidth": 0,
             "ticks": ""
            },
            "colorscale": [
             [
              0,
              "#0d0887"
             ],
             [
              0.1111111111111111,
              "#46039f"
             ],
             [
              0.2222222222222222,
              "#7201a8"
             ],
             [
              0.3333333333333333,
              "#9c179e"
             ],
             [
              0.4444444444444444,
              "#bd3786"
             ],
             [
              0.5555555555555556,
              "#d8576b"
             ],
             [
              0.6666666666666666,
              "#ed7953"
             ],
             [
              0.7777777777777778,
              "#fb9f3a"
             ],
             [
              0.8888888888888888,
              "#fdca26"
             ],
             [
              1,
              "#f0f921"
             ]
            ],
            "type": "surface"
           }
          ],
          "table": [
           {
            "cells": {
             "fill": {
              "color": "#506784"
             },
             "line": {
              "color": "rgb(17,17,17)"
             }
            },
            "header": {
             "fill": {
              "color": "#2a3f5f"
             },
             "line": {
              "color": "rgb(17,17,17)"
             }
            },
            "type": "table"
           }
          ]
         },
         "layout": {
          "annotationdefaults": {
           "arrowcolor": "#f2f5fa",
           "arrowhead": 0,
           "arrowwidth": 1
          },
          "autotypenumbers": "strict",
          "coloraxis": {
           "colorbar": {
            "outlinewidth": 0,
            "ticks": ""
           }
          },
          "colorscale": {
           "diverging": [
            [
             0,
             "#8e0152"
            ],
            [
             0.1,
             "#c51b7d"
            ],
            [
             0.2,
             "#de77ae"
            ],
            [
             0.3,
             "#f1b6da"
            ],
            [
             0.4,
             "#fde0ef"
            ],
            [
             0.5,
             "#f7f7f7"
            ],
            [
             0.6,
             "#e6f5d0"
            ],
            [
             0.7,
             "#b8e186"
            ],
            [
             0.8,
             "#7fbc41"
            ],
            [
             0.9,
             "#4d9221"
            ],
            [
             1,
             "#276419"
            ]
           ],
           "sequential": [
            [
             0,
             "#0d0887"
            ],
            [
             0.1111111111111111,
             "#46039f"
            ],
            [
             0.2222222222222222,
             "#7201a8"
            ],
            [
             0.3333333333333333,
             "#9c179e"
            ],
            [
             0.4444444444444444,
             "#bd3786"
            ],
            [
             0.5555555555555556,
             "#d8576b"
            ],
            [
             0.6666666666666666,
             "#ed7953"
            ],
            [
             0.7777777777777778,
             "#fb9f3a"
            ],
            [
             0.8888888888888888,
             "#fdca26"
            ],
            [
             1,
             "#f0f921"
            ]
           ],
           "sequentialminus": [
            [
             0,
             "#0d0887"
            ],
            [
             0.1111111111111111,
             "#46039f"
            ],
            [
             0.2222222222222222,
             "#7201a8"
            ],
            [
             0.3333333333333333,
             "#9c179e"
            ],
            [
             0.4444444444444444,
             "#bd3786"
            ],
            [
             0.5555555555555556,
             "#d8576b"
            ],
            [
             0.6666666666666666,
             "#ed7953"
            ],
            [
             0.7777777777777778,
             "#fb9f3a"
            ],
            [
             0.8888888888888888,
             "#fdca26"
            ],
            [
             1,
             "#f0f921"
            ]
           ]
          },
          "colorway": [
           "#636efa",
           "#EF553B",
           "#00cc96",
           "#ab63fa",
           "#FFA15A",
           "#19d3f3",
           "#FF6692",
           "#B6E880",
           "#FF97FF",
           "#FECB52"
          ],
          "font": {
           "color": "#f2f5fa"
          },
          "geo": {
           "bgcolor": "rgb(17,17,17)",
           "lakecolor": "rgb(17,17,17)",
           "landcolor": "rgb(17,17,17)",
           "showlakes": true,
           "showland": true,
           "subunitcolor": "#506784"
          },
          "hoverlabel": {
           "align": "left"
          },
          "hovermode": "closest",
          "mapbox": {
           "style": "dark"
          },
          "paper_bgcolor": "rgb(17,17,17)",
          "plot_bgcolor": "rgb(17,17,17)",
          "polar": {
           "angularaxis": {
            "gridcolor": "#506784",
            "linecolor": "#506784",
            "ticks": ""
           },
           "bgcolor": "rgb(17,17,17)",
           "radialaxis": {
            "gridcolor": "#506784",
            "linecolor": "#506784",
            "ticks": ""
           }
          },
          "scene": {
           "xaxis": {
            "backgroundcolor": "rgb(17,17,17)",
            "gridcolor": "#506784",
            "gridwidth": 2,
            "linecolor": "#506784",
            "showbackground": true,
            "ticks": "",
            "zerolinecolor": "#C8D4E3"
           },
           "yaxis": {
            "backgroundcolor": "rgb(17,17,17)",
            "gridcolor": "#506784",
            "gridwidth": 2,
            "linecolor": "#506784",
            "showbackground": true,
            "ticks": "",
            "zerolinecolor": "#C8D4E3"
           },
           "zaxis": {
            "backgroundcolor": "rgb(17,17,17)",
            "gridcolor": "#506784",
            "gridwidth": 2,
            "linecolor": "#506784",
            "showbackground": true,
            "ticks": "",
            "zerolinecolor": "#C8D4E3"
           }
          },
          "shapedefaults": {
           "line": {
            "color": "#f2f5fa"
           }
          },
          "sliderdefaults": {
           "bgcolor": "#C8D4E3",
           "bordercolor": "rgb(17,17,17)",
           "borderwidth": 1,
           "tickwidth": 0
          },
          "ternary": {
           "aaxis": {
            "gridcolor": "#506784",
            "linecolor": "#506784",
            "ticks": ""
           },
           "baxis": {
            "gridcolor": "#506784",
            "linecolor": "#506784",
            "ticks": ""
           },
           "bgcolor": "rgb(17,17,17)",
           "caxis": {
            "gridcolor": "#506784",
            "linecolor": "#506784",
            "ticks": ""
           }
          },
          "title": {
           "x": 0.05
          },
          "updatemenudefaults": {
           "bgcolor": "#506784",
           "borderwidth": 0
          },
          "xaxis": {
           "automargin": true,
           "gridcolor": "#283442",
           "linecolor": "#506784",
           "ticks": "",
           "title": {
            "standoff": 15
           },
           "zerolinecolor": "#283442",
           "zerolinewidth": 2
          },
          "yaxis": {
           "automargin": true,
           "gridcolor": "#283442",
           "linecolor": "#506784",
           "ticks": "",
           "title": {
            "standoff": 15
           },
           "zerolinecolor": "#283442",
           "zerolinewidth": 2
          }
         }
        },
        "xaxis": {
         "anchor": "y",
         "domain": [
          0,
          1
         ],
         "title": {
          "text": "Limit"
         }
        },
        "xaxis2": {
         "anchor": "y2",
         "domain": [
          0,
          1
         ],
         "title": {
          "text": "Limit"
         }
        },
        "xaxis3": {
         "anchor": "y3",
         "domain": [
          0,
          1
         ],
         "title": {
          "text": "Limit"
         }
        },
        "yaxis": {
         "anchor": "x",
         "domain": [
          0.7777777777777778,
          1
         ],
         "range": [
          0,
          null
         ],
         "title": {
          "text": "Recall"
         }
        },
        "yaxis2": {
         "anchor": "x2",
         "domain": [
          0.3888888888888889,
          0.6111111111111112
         ],
         "range": [
          0,
          null
         ],
         "title": {
          "text": "Context Length"
         }
        },
        "yaxis3": {
         "anchor": "x3",
         "domain": [
          0,
          0.22222222222222224
         ],
         "range": [
          0,
          null
         ],
         "title": {
          "text": "Recall / Context Length"
         }
        }
       }
      }
     },
     "metadata": {},
     "output_type": "display_data"
    }
   ],
   "source": [
    "# Create two subplots vertically stacked\n",
    "fig = make_subplots(rows=3, cols=1, \n",
    "                    subplot_titles=(\n",
    "                        \"Recall vs Limit\",\n",
    "                        \"Context Length vs Limit\",\n",
    "                        \"Recall / Context Length vs Limit\"\n",
    "                    ))\n",
    "\n",
    "for i in range(3):  # Assuming 3 expand values (0, 1, 2)\n",
    "    # Add the recall plot\n",
    "    trace1 = px.line(df_summary, x=\"lim\", y=\"recall\", color=\"expand\", markers=True).data[i]\n",
    "    fig.add_trace(trace1, row=1, col=1)\n",
    "    \n",
    "    # Add the context length plot\n",
    "    trace2 = px.line(df_summary, x=\"lim\", y=\"len_context\", color=\"expand\", markers=True).data[i]\n",
    "    trace2.showlegend = False  # Hide duplicate legends\n",
    "    fig.add_trace(trace2, row=2, col=1)\n",
    "\n",
    "    # Add the recall per context plot\n",
    "    trace3 = px.line(df_summary, x=\"lim\", y=\"recall/context\", color=\"expand\", markers=True).data[i]\n",
    "    trace3.showlegend = False  # Hide duplicate legends\n",
    "    fig.add_trace(trace3, row=3, col=1)\n",
    "\n",
    "# Update layout for dark theme and other customizations\n",
    "fig.update_layout(\n",
    "    template=\"plotly_dark\",\n",
    "    height=800,\n",
    "    legend_title=\"Expand Setting\",\n",
    "    xaxis_title=\"Limit\",\n",
    "    xaxis2_title=\"Limit\",\n",
    "    xaxis3_title=\"Limit\",\n",
    "    yaxis_title=\"Recall\",\n",
    "    yaxis2_title=\"Context Length\",\n",
    "    yaxis3_title=\"Recall / Context Length\"\n",
    ")\n",
    "# Set y-axes to start at 0\n",
    "fig.update_yaxes(range=[0, None], row=1, col=1)  # First plot\n",
    "fig.update_yaxes(range=[0, None], row=2, col=1)  # Second plot\n",
    "fig.update_yaxes(range=[0, None], row=3, col=1)  # Third plot\n",
    "fig.show()\n"
   ]
  },
  {
   "cell_type": "code",
   "execution_count": 71,
   "id": "d048b69d",
   "metadata": {},
   "outputs": [
    {
     "data": {
      "application/vnd.plotly.v1+json": {
       "config": {
        "plotlyServerURL": "https://plot.ly"
       },
       "data": [
        {
         "hovertemplate": "len_context=%{x}<br>recall=%{y}<br>lim=%{marker.size}<br>expand=%{marker.color}<extra></extra>",
         "legendgroup": "",
         "marker": {
          "color": [
           0,
           1,
           2,
           0,
           1,
           2,
           0,
           1,
           2,
           0,
           1,
           2,
           0,
           1,
           2,
           0,
           1,
           2
          ],
          "coloraxis": "coloraxis",
          "size": [
           1,
           1,
           1,
           2,
           2,
           2,
           3,
           3,
           3,
           4,
           4,
           4,
           5,
           5,
           5,
           6,
           6,
           6
          ],
          "sizemode": "area",
          "sizeref": 0.015,
          "symbol": "circle"
         },
         "mode": "markers",
         "name": "",
         "orientation": "v",
         "showlegend": false,
         "type": "scatter",
         "x": [
          271641,
          679813,
          1082800,
          542733,
          1195600,
          1833439,
          802144,
          1668870,
          2504310,
          1052255,
          2120119,
          3141017,
          1288690,
          2602518,
          3802165,
          1523111,
          3051403,
          4402041
         ],
         "xaxis": "x",
         "y": [
          0.46,
          0.5,
          0.52,
          0.55,
          0.59,
          0.62,
          0.6,
          0.64,
          0.66,
          0.63,
          0.66,
          0.68,
          0.66,
          0.68,
          0.7,
          0.67,
          0.69,
          0.71
         ],
         "yaxis": "y"
        }
       ],
       "layout": {
        "coloraxis": {
         "colorbar": {
          "title": {
           "text": "expand"
          }
         },
         "colorscale": [
          [
           0,
           "#0d0887"
          ],
          [
           0.1111111111111111,
           "#46039f"
          ],
          [
           0.2222222222222222,
           "#7201a8"
          ],
          [
           0.3333333333333333,
           "#9c179e"
          ],
          [
           0.4444444444444444,
           "#bd3786"
          ],
          [
           0.5555555555555556,
           "#d8576b"
          ],
          [
           0.6666666666666666,
           "#ed7953"
          ],
          [
           0.7777777777777778,
           "#fb9f3a"
          ],
          [
           0.8888888888888888,
           "#fdca26"
          ],
          [
           1,
           "#f0f921"
          ]
         ]
        },
        "legend": {
         "itemsizing": "constant",
         "tracegroupgap": 0
        },
        "margin": {
         "t": 60
        },
        "template": {
         "data": {
          "bar": [
           {
            "error_x": {
             "color": "#2a3f5f"
            },
            "error_y": {
             "color": "#2a3f5f"
            },
            "marker": {
             "line": {
              "color": "#E5ECF6",
              "width": 0.5
             },
             "pattern": {
              "fillmode": "overlay",
              "size": 10,
              "solidity": 0.2
             }
            },
            "type": "bar"
           }
          ],
          "barpolar": [
           {
            "marker": {
             "line": {
              "color": "#E5ECF6",
              "width": 0.5
             },
             "pattern": {
              "fillmode": "overlay",
              "size": 10,
              "solidity": 0.2
             }
            },
            "type": "barpolar"
           }
          ],
          "carpet": [
           {
            "aaxis": {
             "endlinecolor": "#2a3f5f",
             "gridcolor": "white",
             "linecolor": "white",
             "minorgridcolor": "white",
             "startlinecolor": "#2a3f5f"
            },
            "baxis": {
             "endlinecolor": "#2a3f5f",
             "gridcolor": "white",
             "linecolor": "white",
             "minorgridcolor": "white",
             "startlinecolor": "#2a3f5f"
            },
            "type": "carpet"
           }
          ],
          "choropleth": [
           {
            "colorbar": {
             "outlinewidth": 0,
             "ticks": ""
            },
            "type": "choropleth"
           }
          ],
          "contour": [
           {
            "colorbar": {
             "outlinewidth": 0,
             "ticks": ""
            },
            "colorscale": [
             [
              0,
              "#0d0887"
             ],
             [
              0.1111111111111111,
              "#46039f"
             ],
             [
              0.2222222222222222,
              "#7201a8"
             ],
             [
              0.3333333333333333,
              "#9c179e"
             ],
             [
              0.4444444444444444,
              "#bd3786"
             ],
             [
              0.5555555555555556,
              "#d8576b"
             ],
             [
              0.6666666666666666,
              "#ed7953"
             ],
             [
              0.7777777777777778,
              "#fb9f3a"
             ],
             [
              0.8888888888888888,
              "#fdca26"
             ],
             [
              1,
              "#f0f921"
             ]
            ],
            "type": "contour"
           }
          ],
          "contourcarpet": [
           {
            "colorbar": {
             "outlinewidth": 0,
             "ticks": ""
            },
            "type": "contourcarpet"
           }
          ],
          "heatmap": [
           {
            "colorbar": {
             "outlinewidth": 0,
             "ticks": ""
            },
            "colorscale": [
             [
              0,
              "#0d0887"
             ],
             [
              0.1111111111111111,
              "#46039f"
             ],
             [
              0.2222222222222222,
              "#7201a8"
             ],
             [
              0.3333333333333333,
              "#9c179e"
             ],
             [
              0.4444444444444444,
              "#bd3786"
             ],
             [
              0.5555555555555556,
              "#d8576b"
             ],
             [
              0.6666666666666666,
              "#ed7953"
             ],
             [
              0.7777777777777778,
              "#fb9f3a"
             ],
             [
              0.8888888888888888,
              "#fdca26"
             ],
             [
              1,
              "#f0f921"
             ]
            ],
            "type": "heatmap"
           }
          ],
          "heatmapgl": [
           {
            "colorbar": {
             "outlinewidth": 0,
             "ticks": ""
            },
            "colorscale": [
             [
              0,
              "#0d0887"
             ],
             [
              0.1111111111111111,
              "#46039f"
             ],
             [
              0.2222222222222222,
              "#7201a8"
             ],
             [
              0.3333333333333333,
              "#9c179e"
             ],
             [
              0.4444444444444444,
              "#bd3786"
             ],
             [
              0.5555555555555556,
              "#d8576b"
             ],
             [
              0.6666666666666666,
              "#ed7953"
             ],
             [
              0.7777777777777778,
              "#fb9f3a"
             ],
             [
              0.8888888888888888,
              "#fdca26"
             ],
             [
              1,
              "#f0f921"
             ]
            ],
            "type": "heatmapgl"
           }
          ],
          "histogram": [
           {
            "marker": {
             "pattern": {
              "fillmode": "overlay",
              "size": 10,
              "solidity": 0.2
             }
            },
            "type": "histogram"
           }
          ],
          "histogram2d": [
           {
            "colorbar": {
             "outlinewidth": 0,
             "ticks": ""
            },
            "colorscale": [
             [
              0,
              "#0d0887"
             ],
             [
              0.1111111111111111,
              "#46039f"
             ],
             [
              0.2222222222222222,
              "#7201a8"
             ],
             [
              0.3333333333333333,
              "#9c179e"
             ],
             [
              0.4444444444444444,
              "#bd3786"
             ],
             [
              0.5555555555555556,
              "#d8576b"
             ],
             [
              0.6666666666666666,
              "#ed7953"
             ],
             [
              0.7777777777777778,
              "#fb9f3a"
             ],
             [
              0.8888888888888888,
              "#fdca26"
             ],
             [
              1,
              "#f0f921"
             ]
            ],
            "type": "histogram2d"
           }
          ],
          "histogram2dcontour": [
           {
            "colorbar": {
             "outlinewidth": 0,
             "ticks": ""
            },
            "colorscale": [
             [
              0,
              "#0d0887"
             ],
             [
              0.1111111111111111,
              "#46039f"
             ],
             [
              0.2222222222222222,
              "#7201a8"
             ],
             [
              0.3333333333333333,
              "#9c179e"
             ],
             [
              0.4444444444444444,
              "#bd3786"
             ],
             [
              0.5555555555555556,
              "#d8576b"
             ],
             [
              0.6666666666666666,
              "#ed7953"
             ],
             [
              0.7777777777777778,
              "#fb9f3a"
             ],
             [
              0.8888888888888888,
              "#fdca26"
             ],
             [
              1,
              "#f0f921"
             ]
            ],
            "type": "histogram2dcontour"
           }
          ],
          "mesh3d": [
           {
            "colorbar": {
             "outlinewidth": 0,
             "ticks": ""
            },
            "type": "mesh3d"
           }
          ],
          "parcoords": [
           {
            "line": {
             "colorbar": {
              "outlinewidth": 0,
              "ticks": ""
             }
            },
            "type": "parcoords"
           }
          ],
          "pie": [
           {
            "automargin": true,
            "type": "pie"
           }
          ],
          "scatter": [
           {
            "fillpattern": {
             "fillmode": "overlay",
             "size": 10,
             "solidity": 0.2
            },
            "type": "scatter"
           }
          ],
          "scatter3d": [
           {
            "line": {
             "colorbar": {
              "outlinewidth": 0,
              "ticks": ""
             }
            },
            "marker": {
             "colorbar": {
              "outlinewidth": 0,
              "ticks": ""
             }
            },
            "type": "scatter3d"
           }
          ],
          "scattercarpet": [
           {
            "marker": {
             "colorbar": {
              "outlinewidth": 0,
              "ticks": ""
             }
            },
            "type": "scattercarpet"
           }
          ],
          "scattergeo": [
           {
            "marker": {
             "colorbar": {
              "outlinewidth": 0,
              "ticks": ""
             }
            },
            "type": "scattergeo"
           }
          ],
          "scattergl": [
           {
            "marker": {
             "colorbar": {
              "outlinewidth": 0,
              "ticks": ""
             }
            },
            "type": "scattergl"
           }
          ],
          "scattermapbox": [
           {
            "marker": {
             "colorbar": {
              "outlinewidth": 0,
              "ticks": ""
             }
            },
            "type": "scattermapbox"
           }
          ],
          "scatterpolar": [
           {
            "marker": {
             "colorbar": {
              "outlinewidth": 0,
              "ticks": ""
             }
            },
            "type": "scatterpolar"
           }
          ],
          "scatterpolargl": [
           {
            "marker": {
             "colorbar": {
              "outlinewidth": 0,
              "ticks": ""
             }
            },
            "type": "scatterpolargl"
           }
          ],
          "scatterternary": [
           {
            "marker": {
             "colorbar": {
              "outlinewidth": 0,
              "ticks": ""
             }
            },
            "type": "scatterternary"
           }
          ],
          "surface": [
           {
            "colorbar": {
             "outlinewidth": 0,
             "ticks": ""
            },
            "colorscale": [
             [
              0,
              "#0d0887"
             ],
             [
              0.1111111111111111,
              "#46039f"
             ],
             [
              0.2222222222222222,
              "#7201a8"
             ],
             [
              0.3333333333333333,
              "#9c179e"
             ],
             [
              0.4444444444444444,
              "#bd3786"
             ],
             [
              0.5555555555555556,
              "#d8576b"
             ],
             [
              0.6666666666666666,
              "#ed7953"
             ],
             [
              0.7777777777777778,
              "#fb9f3a"
             ],
             [
              0.8888888888888888,
              "#fdca26"
             ],
             [
              1,
              "#f0f921"
             ]
            ],
            "type": "surface"
           }
          ],
          "table": [
           {
            "cells": {
             "fill": {
              "color": "#EBF0F8"
             },
             "line": {
              "color": "white"
             }
            },
            "header": {
             "fill": {
              "color": "#C8D4E3"
             },
             "line": {
              "color": "white"
             }
            },
            "type": "table"
           }
          ]
         },
         "layout": {
          "annotationdefaults": {
           "arrowcolor": "#2a3f5f",
           "arrowhead": 0,
           "arrowwidth": 1
          },
          "autotypenumbers": "strict",
          "coloraxis": {
           "colorbar": {
            "outlinewidth": 0,
            "ticks": ""
           }
          },
          "colorscale": {
           "diverging": [
            [
             0,
             "#8e0152"
            ],
            [
             0.1,
             "#c51b7d"
            ],
            [
             0.2,
             "#de77ae"
            ],
            [
             0.3,
             "#f1b6da"
            ],
            [
             0.4,
             "#fde0ef"
            ],
            [
             0.5,
             "#f7f7f7"
            ],
            [
             0.6,
             "#e6f5d0"
            ],
            [
             0.7,
             "#b8e186"
            ],
            [
             0.8,
             "#7fbc41"
            ],
            [
             0.9,
             "#4d9221"
            ],
            [
             1,
             "#276419"
            ]
           ],
           "sequential": [
            [
             0,
             "#0d0887"
            ],
            [
             0.1111111111111111,
             "#46039f"
            ],
            [
             0.2222222222222222,
             "#7201a8"
            ],
            [
             0.3333333333333333,
             "#9c179e"
            ],
            [
             0.4444444444444444,
             "#bd3786"
            ],
            [
             0.5555555555555556,
             "#d8576b"
            ],
            [
             0.6666666666666666,
             "#ed7953"
            ],
            [
             0.7777777777777778,
             "#fb9f3a"
            ],
            [
             0.8888888888888888,
             "#fdca26"
            ],
            [
             1,
             "#f0f921"
            ]
           ],
           "sequentialminus": [
            [
             0,
             "#0d0887"
            ],
            [
             0.1111111111111111,
             "#46039f"
            ],
            [
             0.2222222222222222,
             "#7201a8"
            ],
            [
             0.3333333333333333,
             "#9c179e"
            ],
            [
             0.4444444444444444,
             "#bd3786"
            ],
            [
             0.5555555555555556,
             "#d8576b"
            ],
            [
             0.6666666666666666,
             "#ed7953"
            ],
            [
             0.7777777777777778,
             "#fb9f3a"
            ],
            [
             0.8888888888888888,
             "#fdca26"
            ],
            [
             1,
             "#f0f921"
            ]
           ]
          },
          "colorway": [
           "#636efa",
           "#EF553B",
           "#00cc96",
           "#ab63fa",
           "#FFA15A",
           "#19d3f3",
           "#FF6692",
           "#B6E880",
           "#FF97FF",
           "#FECB52"
          ],
          "font": {
           "color": "#2a3f5f"
          },
          "geo": {
           "bgcolor": "white",
           "lakecolor": "white",
           "landcolor": "#E5ECF6",
           "showlakes": true,
           "showland": true,
           "subunitcolor": "white"
          },
          "hoverlabel": {
           "align": "left"
          },
          "hovermode": "closest",
          "mapbox": {
           "style": "light"
          },
          "paper_bgcolor": "white",
          "plot_bgcolor": "#E5ECF6",
          "polar": {
           "angularaxis": {
            "gridcolor": "white",
            "linecolor": "white",
            "ticks": ""
           },
           "bgcolor": "#E5ECF6",
           "radialaxis": {
            "gridcolor": "white",
            "linecolor": "white",
            "ticks": ""
           }
          },
          "scene": {
           "xaxis": {
            "backgroundcolor": "#E5ECF6",
            "gridcolor": "white",
            "gridwidth": 2,
            "linecolor": "white",
            "showbackground": true,
            "ticks": "",
            "zerolinecolor": "white"
           },
           "yaxis": {
            "backgroundcolor": "#E5ECF6",
            "gridcolor": "white",
            "gridwidth": 2,
            "linecolor": "white",
            "showbackground": true,
            "ticks": "",
            "zerolinecolor": "white"
           },
           "zaxis": {
            "backgroundcolor": "#E5ECF6",
            "gridcolor": "white",
            "gridwidth": 2,
            "linecolor": "white",
            "showbackground": true,
            "ticks": "",
            "zerolinecolor": "white"
           }
          },
          "shapedefaults": {
           "line": {
            "color": "#2a3f5f"
           }
          },
          "ternary": {
           "aaxis": {
            "gridcolor": "white",
            "linecolor": "white",
            "ticks": ""
           },
           "baxis": {
            "gridcolor": "white",
            "linecolor": "white",
            "ticks": ""
           },
           "bgcolor": "#E5ECF6",
           "caxis": {
            "gridcolor": "white",
            "linecolor": "white",
            "ticks": ""
           }
          },
          "title": {
           "x": 0.05
          },
          "xaxis": {
           "automargin": true,
           "gridcolor": "white",
           "linecolor": "white",
           "ticks": "",
           "title": {
            "standoff": 15
           },
           "zerolinecolor": "white",
           "zerolinewidth": 2
          },
          "yaxis": {
           "automargin": true,
           "gridcolor": "white",
           "linecolor": "white",
           "ticks": "",
           "title": {
            "standoff": 15
           },
           "zerolinecolor": "white",
           "zerolinewidth": 2
          }
         }
        },
        "xaxis": {
         "anchor": "y",
         "domain": [
          0,
          1
         ],
         "title": {
          "text": "len_context"
         }
        },
        "yaxis": {
         "anchor": "x",
         "domain": [
          0,
          1
         ],
         "title": {
          "text": "recall"
         }
        }
       }
      }
     },
     "metadata": {},
     "output_type": "display_data"
    }
   ],
   "source": [
    "px.scatter(df_summary, x=\"len_context\", y=\"recall\", color=\"expand\", size=\"lim\")\n"
   ]
  },
  {
   "cell_type": "markdown",
   "id": "22e31d39",
   "metadata": {},
   "source": [
    "# Fancy analysis"
   ]
  },
  {
   "cell_type": "code",
   "execution_count": 63,
   "id": "8a9e54eb",
   "metadata": {},
   "outputs": [],
   "source": [
    "import pandas as pd\n",
    "import numpy as np\n",
    "import matplotlib.pyplot as plt\n",
    "from dataclasses import dataclass\n",
    "from typing import Tuple, Dict\n",
    "import seaborn as sns\n",
    "\n",
    "@dataclass\n",
    "class OptimizationResult:\n",
    "    expand: int\n",
    "    limit: int\n",
    "    score: float\n",
    "    recall: float\n",
    "    context_length: int\n",
    "    \n",
    "def calculate_cost_function(row, \n",
    "                          alpha: float = 0.7,\n",
    "                          token_cost_weight: float = 0.3,\n",
    "                          min_recall: float = 0.45,\n",
    "                          price_per_token: float = 0.0001) -> float:\n",
    "    \"\"\"\n",
    "    Calculate optimization score for a given configuration.\n",
    "    \"\"\"\n",
    "    if row['recall'] < min_recall:\n",
    "        return float('-inf')\n",
    "    \n",
    "    max_context = 4_000_000\n",
    "    normalized_context = row['len_context'] / max_context\n",
    "    token_cost = row['len_context'] * price_per_token\n",
    "    normalized_cost = token_cost / (max_context * price_per_token)\n",
    "    \n",
    "    quality_score = alpha * row['recall']\n",
    "    cost_penalty = (1 - alpha) * (\n",
    "        (1 - token_cost_weight) * normalized_context +\n",
    "        token_cost_weight * normalized_cost\n",
    "    )\n",
    "    \n",
    "    return quality_score - cost_penalty\n",
    "\n",
    "def find_optimal_configuration(df: pd.DataFrame, \n",
    "                             alpha: float = 0.7,\n",
    "                             token_cost_weight: float = 0.3,\n",
    "                             min_recall: float = 0.45,\n",
    "                             price_per_token: float = 0.0001) -> OptimizationResult:\n",
    "    \"\"\"\n",
    "    Find optimal configuration based on cost function.\n",
    "    \"\"\"\n",
    "    df['score'] = df.apply(\n",
    "        lambda row: calculate_cost_function(\n",
    "            row, \n",
    "            alpha=alpha,\n",
    "            token_cost_weight=token_cost_weight,\n",
    "            min_recall=min_recall,\n",
    "            price_per_token=price_per_token\n",
    "        ),\n",
    "        axis=1\n",
    "    )\n",
    "    \n",
    "    best_config = df.loc[df['score'].idxmax()]\n",
    "    \n",
    "    return OptimizationResult(\n",
    "        expand=int(best_config['expand']),\n",
    "        limit=int(best_config['lim']),\n",
    "        score=best_config['score'],\n",
    "        recall=best_config['recall'],\n",
    "        context_length=best_config['len_context']\n",
    "    )\n",
    "\n",
    "def analyze_marginal_benefits(df: pd.DataFrame) -> pd.DataFrame:\n",
    "    \"\"\"\n",
    "    Calculate marginal benefits of increasing limit for each expand setting.\n",
    "    \"\"\"\n",
    "    margins = []\n",
    "    \n",
    "    for expand in df['expand'].unique():\n",
    "        expand_df = df[df['expand'] == expand].sort_values('lim')\n",
    "        \n",
    "        for i in range(len(expand_df) - 1):\n",
    "            current = expand_df.iloc[i]\n",
    "            next_row = expand_df.iloc[i + 1]\n",
    "            \n",
    "            recall_gain = next_row['recall'] - current['recall']\n",
    "            context_increase = next_row['len_context'] - current['len_context']\n",
    "            \n",
    "            margins.append({\n",
    "                'expand': expand,\n",
    "                'limit_from': current['lim'],\n",
    "                'limit_to': next_row['lim'],\n",
    "                'recall_gain': recall_gain,\n",
    "                'context_increase': context_increase,\n",
    "                'efficiency': recall_gain / context_increase if context_increase > 0 else 0\n",
    "            })\n",
    "    \n",
    "    return pd.DataFrame(margins)\n",
    "\n",
    "def plot_analysis(df: pd.DataFrame, result: OptimizationResult):\n",
    "    \"\"\"\n",
    "    Create visualization of the analysis results.\n",
    "    \"\"\"\n",
    "    fig, axes = plt.subplots(2, 2, figsize=(15, 12))\n",
    "    fig.suptitle('RAG Retrieval System Analysis')\n",
    "    \n",
    "    # Plot 1: Recall vs Score\n",
    "    # First add connecting lines\n",
    "    for expand_val in df['expand'].unique():\n",
    "        expand_data = df[df['expand'] == expand_val].sort_values('lim')\n",
    "        axes[0,0].plot(expand_data['recall'], expand_data['score'], '-', alpha=0.3, linewidth=1)\n",
    "    # Then add scatter plot on top\n",
    "    sns.scatterplot(\n",
    "        data=df,\n",
    "        x='recall',\n",
    "        y='score',\n",
    "        hue='expand',\n",
    "        size='lim',\n",
    "        ax=axes[0,0]\n",
    "    )\n",
    "    axes[0,0].set_title('Recall vs Optimization Score')\n",
    "    \n",
    "    # Plot 2: Context Length vs Score\n",
    "    # First add connecting lines\n",
    "    for expand_val in df['expand'].unique():\n",
    "        expand_data = df[df['expand'] == expand_val].sort_values('lim')\n",
    "        axes[0,1].plot(expand_data['len_context'], expand_data['score'], '-', alpha=0.3, linewidth=1)\n",
    "    # Then add scatter plot on top\n",
    "    sns.scatterplot(\n",
    "        data=df,\n",
    "        x='len_context',\n",
    "        y='score',\n",
    "        hue='expand',\n",
    "        size='lim',\n",
    "        ax=axes[0,1]\n",
    "    )\n",
    "    axes[0,1].set_title('Context Length vs Optimization Score')\n",
    "    \n",
    "    # Plot 3: Efficiency (Recall/Context) vs Limit\n",
    "    sns.lineplot(\n",
    "        data=df,\n",
    "        x='lim',\n",
    "        y='recall/context',\n",
    "        hue='expand',\n",
    "        ax=axes[1,0]\n",
    "    )\n",
    "    axes[1,0].set_title('Efficiency vs Limit')\n",
    "    \n",
    "    # Plot 4: Recall vs Context Length\n",
    "    # First add connecting lines\n",
    "    for expand_val in df['expand'].unique():\n",
    "        expand_data = df[df['expand'] == expand_val].sort_values('lim')\n",
    "        axes[1,1].plot(expand_data['len_context'], expand_data['recall'], '-', alpha=0.3, linewidth=1)\n",
    "    # Then add scatter plot on top\n",
    "    sns.scatterplot(\n",
    "        data=df,\n",
    "        x='len_context',\n",
    "        y='recall',\n",
    "        hue='expand',\n",
    "        size='lim',\n",
    "        ax=axes[1,1]\n",
    "    )\n",
    "    axes[1,1].scatter(\n",
    "        result.context_length,\n",
    "        result.recall,\n",
    "        color='red',\n",
    "        s=200,\n",
    "        marker='*',\n",
    "        label='Optimal'\n",
    "    )\n",
    "    axes[1,1].set_title('Recall vs Context Length (Optimal Point)')\n",
    "    \n",
    "    plt.tight_layout()\n",
    "    return fig\n",
    "\n",
    "def main(df: pd.DataFrame, alpha: float = 0.7):\n",
    "    \"\"\"\n",
    "    Run complete analysis pipeline.\n",
    "    \"\"\"\n",
    "    # Find optimal configuration\n",
    "    result = find_optimal_configuration(\n",
    "        df,\n",
    "        alpha=alpha,\n",
    "        token_cost_weight=0.3,\n",
    "        min_recall=0.45,\n",
    "        price_per_token=0.0001\n",
    "    )\n",
    "    \n",
    "    # Calculate marginal benefits\n",
    "    margins_df = analyze_marginal_benefits(df)\n",
    "    \n",
    "    # Create visualization\n",
    "    fig = plot_analysis(df, result)\n",
    "    \n",
    "    return result, margins_df, fig"
   ]
  },
  {
   "cell_type": "code",
   "execution_count": 64,
   "id": "ba400784",
   "metadata": {},
   "outputs": [
    {
     "name": "stdout",
     "output_type": "stream",
     "text": [
      "Optimal configuration:\n",
      "Expand: 0\n",
      "Limit: 5\n",
      "Recall: 0.660\n",
      "Context Length: 1,288,690\n",
      "Score: 0.365\n",
      "\n",
      "Marginal benefits when increasing limit:\n",
      "    expand  limit_from  limit_to  recall_gain  context_increase    efficiency\n",
      "0        0           1         2         0.09            271092  3.319906e-07\n",
      "1        0           2         3         0.05            259411  1.927443e-07\n",
      "2        0           3         4         0.03            250111  1.199467e-07\n",
      "3        0           4         5         0.03            236435  1.268848e-07\n",
      "4        0           5         6         0.01            234421  4.265829e-08\n",
      "5        1           1         2         0.09            515787  1.744906e-07\n",
      "6        1           2         3         0.05            473270  1.056479e-07\n",
      "7        1           3         4         0.02            451249  4.432143e-08\n",
      "8        1           4         5         0.02            482399  4.145946e-08\n",
      "9        1           5         6         0.01            448885  2.227742e-08\n",
      "10       2           1         2         0.10            750639  1.332198e-07\n",
      "11       2           2         3         0.04            670871  5.962398e-08\n",
      "12       2           3         4         0.02            636707  3.141162e-08\n",
      "13       2           4         5         0.02            661148  3.025041e-08\n",
      "14       2           5         6         0.01            599876  1.667011e-08\n"
     ]
    },
    {
     "data": {
      "image/png": "[encoded data removed]",
      "text/plain": [
       "<Figure size 1500x1200 with 4 Axes>"
      ]
     },
     "metadata": {},
     "output_type": "display_data"
    }
   ],
   "source": [
    "\n",
    "\n",
    "result, margins, fig = main(df_summary)\n",
    "\n",
    "print(f\"Optimal configuration:\")\n",
    "print(f\"Expand: {result.expand}\")\n",
    "print(f\"Limit: {result.limit}\")\n",
    "print(f\"Recall: {result.recall:.3f}\")\n",
    "print(f\"Context Length: {result.context_length:,}\")\n",
    "print(f\"Score: {result.score:.3f}\")\n",
    "\n",
    "print(\"\\nMarginal benefits when increasing limit:\")\n",
    "print(margins)\n",
    "\n",
    "plt.show()"
   ]
  },
  {
   "cell_type": "code",
   "execution_count": null,
   "id": "e2070fd9",
   "metadata": {},
   "outputs": [],
   "source": []
  }
 ],
 "metadata": {
  "kernelspec": {
   "display_name": "ultirag",
   "language": "python",
   "name": "python3"
  },
  "language_info": {
   "codemirror_mode": {
    "name": "ipython",
    "version": 3
   },
   "file_extension": ".py",
   "mimetype": "text/x-python",
   "name": "python",
   "nbconvert_exporter": "python",
   "pygments_lexer": "ipython3",
   "version": "3.12.6"
  }
 },
 "nbformat": 4,
 "nbformat_minor": 5
}
