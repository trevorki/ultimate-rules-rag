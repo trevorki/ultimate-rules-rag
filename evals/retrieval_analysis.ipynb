{
 "cells": [
  {
   "cell_type": "code",
   "execution_count": 35,
   "id": "616bb864-f2d5-4b42-bd00-12ea558786f2",
   "metadata": {},
   "outputs": [],
   "source": [
    "import pandas as pd\n",
    "import plotly.express as px\n",
    "import plotly.graph_objects as go\n",
    "from plotly.subplots import make_subplots\n",
    "import os"
   ]
  },
  {
   "cell_type": "code",
   "execution_count": 36,
   "id": "fb57be9c",
   "metadata": {},
   "outputs": [],
   "source": [
    "# folder = \"results\"\n",
    "# files = os.listdir(folder)\n",
    "\n",
    "# hybrid_and_files = [file for file in files if \"search-hybrid_\" in file]\n",
    "# for file in hybrid_and_files:\n",
    "#     new_file = file.replace(\"search-hybrid\", \"search-hybridAND\")\n",
    "#     os.rename(os.path.join(folder, file), os.path.join(folder, new_file))\n"
   ]
  },
  {
   "cell_type": "code",
   "execution_count": 38,
   "id": "01a925aa",
   "metadata": {},
   "outputs": [],
   "source": [
    "def prepare_df(folder):\n",
    "    files = os.listdir(folder)\n",
    "    df = pd.DataFrame()\n",
    "    for file in files:\n",
    "        chunk = file.split(\"chunk-\")[1].split(\"_\")[0]\n",
    "        # print(chunk, int(chunk))\n",
    "        chunk = int(chunk)\n",
    "        search = file.split(\"search-\")[1].split(\"_\")[0]\n",
    "        lim = file.split(\"lim-\")[1].split(\"_\")[0]\n",
    "        expand = file.split(\"expand-\")[1].split(\".\")[0]\n",
    "\n",
    "        temp_df = pd.read_csv(os.path.join(folder, file))\n",
    "        temp_df[\"chunk\"] = chunk\n",
    "        temp_df[\"search\"] = search\n",
    "        temp_df[\"lim\"] = int(lim)\n",
    "        temp_df[\"expand\"] = int(expand)\n",
    "        df = pd.concat([df, temp_df])\n",
    "    return df.reset_index(drop=True)\n",
    "    \n",
    "def prepare_summary(df):\n",
    "    df_summary = df.groupby([\"chunk\",\"search\", \"lim\", \"expand\"]).sum()\n",
    "    df_summary = df_summary.reset_index()\n",
    "\n",
    "    df_summary[\"recall\"] = (df_summary[\"n_retrieved_rules\"] / df_summary[\"n_target_rules\"]).round(2)\n",
    "    df_summary[\"recall/context\"] = (df_summary[\"recall\"] / df_summary[\"len_context\"]).round(8)\n",
    "\n",
    "    columns = [\"chunk\", \"search\", \"expand\", \"lim\", \"len_context\", \"recall\", \"recall/context\"]\n",
    "    return df_summary[columns]\n"
   ]
  },
  {
   "cell_type": "code",
   "execution_count": 14,
   "id": "69576a3f",
   "metadata": {},
   "outputs": [],
   "source": [
    "# def plot_results(df_summary):\n",
    "#     # Create two subplots vertically stacked\n",
    "#     fig = make_subplots(rows=2, cols=1, \n",
    "#                         subplot_titles=(\n",
    "#                             \"Recall vs Limit\",\n",
    "#                             \"Recall vs Context Length\"\n",
    "#                         ))\n",
    "\n",
    "#     # Define colors for expand values and markers for search types\n",
    "#     colors = ['#636EFA', '#EF553B', '#00CC96']  # Default plotly colors\n",
    "#     search_markers = {\n",
    "#         'hybridAND': 'circle',\n",
    "#         'hybridOR': 'circle-open',\n",
    "#         'semantic': 'diamond',\n",
    "#         'ftsAND': 'square',\n",
    "#         'ftsOR': 'square-open'\n",
    "#     }\n",
    "\n",
    "#     # First plot: Recall vs Limit\n",
    "#     for i, expand_val in enumerate(df_summary['expand'].unique()):\n",
    "#         for search_type in df_summary['search'].unique():\n",
    "#             df_filtered = df_summary[\n",
    "#                 (df_summary['expand'] == expand_val) & \n",
    "#                 (df_summary['search'] == search_type)\n",
    "#             ]\n",
    "            \n",
    "#             fig.add_trace(\n",
    "#                 go.Scatter(\n",
    "#                     x=df_filtered['lim'],\n",
    "#                     y=df_filtered['recall'],\n",
    "#                     mode='lines+markers',\n",
    "#                     name=f'Expand {expand_val}, {search_type}',\n",
    "#                     line=dict(color=colors[i]),\n",
    "#                     marker=dict(\n",
    "#                         symbol=search_markers[search_type], \n",
    "#                         size=df_filtered['lim']+5,\n",
    "#                     ),\n",
    "#                     hovertemplate=\"<br>\".join([\n",
    "#                         \"Limit: %{x}\",\n",
    "#                         \"Recall: %{y:.3f}\",\n",
    "#                         \"Search: \" + search_type,\n",
    "#                         \"Expand: %{customdata[0]}\",\n",
    "#                         \"Context Length: %{customdata[1]:,}\",\n",
    "#                     ]),\n",
    "#                     customdata=df_filtered[['expand', 'len_context']].values\n",
    "#                 ),\n",
    "#                 row=1, col=1\n",
    "#             )\n",
    "\n",
    "#     # Second plot: Recall vs Context Length\n",
    "#     for i, expand_val in enumerate(df_summary['expand'].unique()):\n",
    "#         for search_type in df_summary['search'].unique():\n",
    "#             df_filtered = df_summary[\n",
    "#                 (df_summary['expand'] == expand_val) & \n",
    "#                 (df_summary['search'] == search_type)\n",
    "#             ]\n",
    "            \n",
    "#             fig.add_trace(\n",
    "#                 go.Scatter(\n",
    "#                     x=df_filtered['len_context'],\n",
    "#                     y=df_filtered['recall'],\n",
    "#                     mode='markers+lines',\n",
    "#                     name=f'Expand {expand_val}, {search_type}',\n",
    "#                     marker=dict(\n",
    "#                         color=colors[i],\n",
    "#                         symbol=search_markers[search_type],\n",
    "#                         size=df_filtered['lim']+5,\n",
    "#                     ),\n",
    "#                     hovertemplate=\"<br>\".join([\n",
    "#                         \"Context Length: %{x:,}\",\n",
    "#                         \"Recall: %{y:.3f}\",\n",
    "#                         \"Search: \" + search_type,\n",
    "#                         \"Expand: %{customdata[0]}\",\n",
    "#                         \"Limit: %{customdata[1]}\",\n",
    "#                     ]),\n",
    "#                     customdata=df_filtered[['expand', 'lim']].values,\n",
    "#                     showlegend=False\n",
    "#                 ),\n",
    "#                 row=2, col=1\n",
    "#             )\n",
    "\n",
    "#     # Update layout for dark theme and other customizations\n",
    "#     fig.update_layout(\n",
    "#         template=\"plotly_dark\",\n",
    "#         height=800,\n",
    "#         legend_title=\"Configuration\",\n",
    "#         xaxis_title=\"Limit\",\n",
    "#         xaxis2_title=\"Context Length\",\n",
    "#         yaxis_title=\"Recall\",\n",
    "#         yaxis2_title=\"Recall\"\n",
    "#     )\n",
    "\n",
    "#     # Set y-axes to start at 0\n",
    "#     # fig.update_yaxes(range=[0, None], row=1, col=1)\n",
    "#     # fig.update_yaxes(range=[0, None], row=2, col=1)\n",
    "\n",
    "#     fig.show()\n"
   ]
  },
  {
   "cell_type": "code",
   "execution_count": 44,
   "id": "a0d3ff2c",
   "metadata": {},
   "outputs": [],
   "source": [
    "def plot_results(df_summary):\n",
    "    # Create three subplots vertically stacked\n",
    "    fig = make_subplots(rows=4, cols=1, \n",
    "                        subplot_titles=(\n",
    "                            \"Chunk Size 500: Recall vs Context Length\",\n",
    "                            \"Chunk Size 1000: Recall vs Context Length\",\n",
    "                            \"Chunk Size 1500: Recall vs Context Length\",\n",
    "                            \"Chunk Size 2000: Recall vs Context Length\"\n",
    "                        ),\n",
    "                        vertical_spacing=0.1)\n",
    "\n",
    "    # Define colors for expand values and markers for search types\n",
    "    colors = ['#636EFA', '#EF553B', '#00CC96']  # Default plotly colors\n",
    "    search_markers = {\n",
    "        'hybridAND': 'circle',\n",
    "        'hybridOR': 'circle-open',\n",
    "        'semantic': 'diamond',\n",
    "        'ftsAND': 'square',\n",
    "        'ftsOR': 'square-open'\n",
    "    }\n",
    "\n",
    "    # Plot for each chunk size\n",
    "    for row, chunk_size in enumerate([500, 1000, 1500, 2000], 1):\n",
    "        df_chunk = df_summary[df_summary['chunk'] == chunk_size]\n",
    "        \n",
    "        for i, expand_val in enumerate(df_chunk['expand'].unique()):\n",
    "            for search_type in df_chunk['search'].unique():\n",
    "                df_filtered = df_chunk[\n",
    "                    (df_chunk['expand'] == expand_val) & \n",
    "                    (df_chunk['search'] == search_type)\n",
    "                ]\n",
    "                \n",
    "                fig.add_trace(\n",
    "                    go.Scatter(\n",
    "                        x=df_filtered['len_context'],\n",
    "                        y=df_filtered['recall'],\n",
    "                        mode='markers+lines',\n",
    "                        name=f'Expand {expand_val}, {search_type}',\n",
    "                        marker=dict(\n",
    "                            color=colors[i],\n",
    "                            symbol=search_markers[search_type],\n",
    "                            size=df_filtered['lim']+5,\n",
    "                        ),\n",
    "                        hovertemplate=\"<br>\".join([\n",
    "                            \"Context Length: %{x:,}\",\n",
    "                            \"Recall: %{y:.3f}\",\n",
    "                            \"Search: \" + search_type,\n",
    "                            \"Expand: %{customdata[0]}\",\n",
    "                            \"Limit: %{customdata[1]}\",\n",
    "                        ]),\n",
    "                        customdata=df_filtered[['expand', 'lim']].values,\n",
    "                        showlegend=True if row==1 else False\n",
    "                    ),\n",
    "                    row=row, col=1\n",
    "                )\n",
    "\n",
    "    # Update layout for dark theme and other customizations\n",
    "    fig.update_layout(\n",
    "        template=\"plotly_dark\",\n",
    "        height=1200,  # Increased height for three plots\n",
    "        legend_title=\"Configuration\",\n",
    "        showlegend=True\n",
    "    )\n",
    "\n",
    "    # Update all x and y axes titles\n",
    "    for i in range(1, 4):\n",
    "        fig.update_xaxes(title_text=\"Context Length\", row=i, col=1)\n",
    "        fig.update_yaxes(title_text=\"Recall\", row=i, col=1)\n",
    "\n",
    "    fig.show()"
   ]
  },
  {
   "cell_type": "code",
   "execution_count": 42,
   "id": "98175a28-2d5c-4f5f-93fc-ce0243328c8a",
   "metadata": {},
   "outputs": [
    {
     "data": {
      "text/html": [
       "<div>\n",
       "<style scoped>\n",
       "    .dataframe tbody tr th:only-of-type {\n",
       "        vertical-align: middle;\n",
       "    }\n",
       "\n",
       "    .dataframe tbody tr th {\n",
       "        vertical-align: top;\n",
       "    }\n",
       "\n",
       "    .dataframe thead th {\n",
       "        text-align: right;\n",
       "    }\n",
       "</style>\n",
       "<table border=\"1\" class=\"dataframe\">\n",
       "  <thead>\n",
       "    <tr style=\"text-align: right;\">\n",
       "      <th></th>\n",
       "      <th>chunk</th>\n",
       "      <th>search</th>\n",
       "      <th>expand</th>\n",
       "      <th>lim</th>\n",
       "      <th>len_context</th>\n",
       "      <th>recall</th>\n",
       "      <th>recall/context</th>\n",
       "    </tr>\n",
       "  </thead>\n",
       "  <tbody>\n",
       "    <tr>\n",
       "      <th>219</th>\n",
       "      <td>1500</td>\n",
       "      <td>hybridOR</td>\n",
       "      <td>0</td>\n",
       "      <td>6</td>\n",
       "      <td>1776417</td>\n",
       "      <td>0.73</td>\n",
       "      <td>4.100000e-07</td>\n",
       "    </tr>\n",
       "    <tr>\n",
       "      <th>217</th>\n",
       "      <td>1500</td>\n",
       "      <td>hybridOR</td>\n",
       "      <td>1</td>\n",
       "      <td>5</td>\n",
       "      <td>3186683</td>\n",
       "      <td>0.73</td>\n",
       "      <td>2.300000e-07</td>\n",
       "    </tr>\n",
       "    <tr>\n",
       "      <th>218</th>\n",
       "      <td>1500</td>\n",
       "      <td>hybridOR</td>\n",
       "      <td>2</td>\n",
       "      <td>5</td>\n",
       "      <td>4721540</td>\n",
       "      <td>0.73</td>\n",
       "      <td>1.500000e-07</td>\n",
       "    </tr>\n",
       "    <tr>\n",
       "      <th>221</th>\n",
       "      <td>1500</td>\n",
       "      <td>hybridOR</td>\n",
       "      <td>2</td>\n",
       "      <td>6</td>\n",
       "      <td>5505773</td>\n",
       "      <td>0.73</td>\n",
       "      <td>1.300000e-07</td>\n",
       "    </tr>\n",
       "    <tr>\n",
       "      <th>220</th>\n",
       "      <td>1500</td>\n",
       "      <td>hybridOR</td>\n",
       "      <td>1</td>\n",
       "      <td>6</td>\n",
       "      <td>3751622</td>\n",
       "      <td>0.73</td>\n",
       "      <td>1.900000e-07</td>\n",
       "    </tr>\n",
       "    <tr>\n",
       "      <th>65</th>\n",
       "      <td>500</td>\n",
       "      <td>hybridOR</td>\n",
       "      <td>2</td>\n",
       "      <td>6</td>\n",
       "      <td>1953357</td>\n",
       "      <td>0.72</td>\n",
       "      <td>3.700000e-07</td>\n",
       "    </tr>\n",
       "    <tr>\n",
       "      <th>267</th>\n",
       "      <td>2000</td>\n",
       "      <td>hybridOR</td>\n",
       "      <td>1</td>\n",
       "      <td>4</td>\n",
       "      <td>3347447</td>\n",
       "      <td>0.72</td>\n",
       "      <td>2.200000e-07</td>\n",
       "    </tr>\n",
       "    <tr>\n",
       "      <th>269</th>\n",
       "      <td>2000</td>\n",
       "      <td>hybridOR</td>\n",
       "      <td>1</td>\n",
       "      <td>5</td>\n",
       "      <td>4063945</td>\n",
       "      <td>0.72</td>\n",
       "      <td>1.800000e-07</td>\n",
       "    </tr>\n",
       "    <tr>\n",
       "      <th>68</th>\n",
       "      <td>500</td>\n",
       "      <td>hybridOR</td>\n",
       "      <td>2</td>\n",
       "      <td>7</td>\n",
       "      <td>2233008</td>\n",
       "      <td>0.72</td>\n",
       "      <td>3.200000e-07</td>\n",
       "    </tr>\n",
       "    <tr>\n",
       "      <th>200</th>\n",
       "      <td>1500</td>\n",
       "      <td>hybridAND</td>\n",
       "      <td>2</td>\n",
       "      <td>5</td>\n",
       "      <td>4346548</td>\n",
       "      <td>0.72</td>\n",
       "      <td>1.700000e-07</td>\n",
       "    </tr>\n",
       "  </tbody>\n",
       "</table>\n",
       "</div>"
      ],
      "text/plain": [
       "     chunk     search  expand  lim  len_context  recall  recall/context\n",
       "219   1500   hybridOR       0    6      1776417    0.73    4.100000e-07\n",
       "217   1500   hybridOR       1    5      3186683    0.73    2.300000e-07\n",
       "218   1500   hybridOR       2    5      4721540    0.73    1.500000e-07\n",
       "221   1500   hybridOR       2    6      5505773    0.73    1.300000e-07\n",
       "220   1500   hybridOR       1    6      3751622    0.73    1.900000e-07\n",
       "65     500   hybridOR       2    6      1953357    0.72    3.700000e-07\n",
       "267   2000   hybridOR       1    4      3347447    0.72    2.200000e-07\n",
       "269   2000   hybridOR       1    5      4063945    0.72    1.800000e-07\n",
       "68     500   hybridOR       2    7      2233008    0.72    3.200000e-07\n",
       "200   1500  hybridAND       2    5      4346548    0.72    1.700000e-07"
      ]
     },
     "execution_count": 42,
     "metadata": {},
     "output_type": "execute_result"
    }
   ],
   "source": [
    "folder = \"results/retrieval\"\n",
    "df = prepare_df(folder) \n",
    "\n",
    "# df = df.loc[df[\"chunk\"] == 1500]\n",
    "# df = df.loc[df[\"search\"] != \"ftsAND\"]\n",
    "# df = df.loc[df[\"expand\"] < 2]\n",
    "\n",
    "\n",
    "df_summary = prepare_summary(df)\n",
    "df_summary.sort_values(\"recall\", ascending = False).head(10)"
   ]
  },
  {
   "cell_type": "code",
   "execution_count": 45,
   "id": "e3bb8753",
   "metadata": {},
   "outputs": [
    {
     "data": {
      "application/vnd.plotly.v1+json": {
       "config": {
        "plotlyServerURL": "https://plot.ly"
       },
       "data": [
        {
         "customdata": [
          [
           0,
           1
          ],
          [
           0,
           2
          ],
          [
           0,
           3
          ],
          [
           0,
           4
          ],
          [
           0,
           5
          ],
          [
           0,
           6
          ],
          [
           0,
           7
          ],
          [
           0,
           8
          ],
          [
           0,
           9
          ],
          [
           0,
           10
          ]
         ],
         "hovertemplate": "Context Length: %{x:,}<br>Recall: %{y:.3f}<br>Search: ftsOR<br>Expand: %{customdata[0]}<br>Limit: %{customdata[1]}",
         "marker": {
          "color": "#636EFA",
          "size": [
           6,
           7,
           8,
           9,
           10,
           11,
           12,
           13,
           14,
           15
          ],
          "symbol": "square-open"
         },
         "mode": "markers+lines",
         "name": "Expand 0, ftsOR",
         "showlegend": true,
         "type": "scatter",
         "x": [
          101261,
          205266,
          310710,
          417449,
          521732,
          624771,
          729163,
          835053,
          936598,
          1043090
         ],
         "xaxis": "x",
         "y": [
          0.42,
          0.52,
          0.55,
          0.59,
          0.61,
          0.62,
          0.64,
          0.65,
          0.66,
          0.66
         ],
         "yaxis": "y"
        },
        {
         "customdata": [
          [
           0,
           1
          ],
          [
           0,
           2
          ],
          [
           0,
           3
          ],
          [
           0,
           4
          ],
          [
           0,
           5
          ],
          [
           0,
           6
          ],
          [
           0,
           7
          ],
          [
           0,
           8
          ],
          [
           0,
           9
          ],
          [
           0,
           10
          ]
         ],
         "hovertemplate": "Context Length: %{x:,}<br>Recall: %{y:.3f}<br>Search: hybridAND<br>Expand: %{customdata[0]}<br>Limit: %{customdata[1]}",
         "marker": {
          "color": "#636EFA",
          "size": [
           6,
           7,
           8,
           9,
           10,
           11,
           12,
           13,
           14,
           15
          ],
          "symbol": "circle"
         },
         "mode": "markers+lines",
         "name": "Expand 0, hybridAND",
         "showlegend": true,
         "type": "scatter",
         "x": [
          93728,
          184952,
          279982,
          371355,
          460657,
          551552,
          642950,
          731572,
          820972,
          910901
         ],
         "xaxis": "x",
         "y": [
          0.45,
          0.55,
          0.59,
          0.62,
          0.64,
          0.64,
          0.64,
          0.67,
          0.67,
          0.69
         ],
         "yaxis": "y"
        },
        {
         "customdata": [
          [
           0,
           1
          ],
          [
           0,
           2
          ],
          [
           0,
           3
          ],
          [
           0,
           4
          ],
          [
           0,
           5
          ],
          [
           0,
           6
          ],
          [
           0,
           7
          ],
          [
           0,
           8
          ],
          [
           0,
           9
          ],
          [
           0,
           10
          ]
         ],
         "hovertemplate": "Context Length: %{x:,}<br>Recall: %{y:.3f}<br>Search: hybridOR<br>Expand: %{customdata[0]}<br>Limit: %{customdata[1]}",
         "marker": {
          "color": "#636EFA",
          "size": [
           6,
           7,
           8,
           9,
           10,
           11,
           12,
           13,
           14,
           15
          ],
          "symbol": "circle-open"
         },
         "mode": "markers+lines",
         "name": "Expand 0, hybridOR",
         "showlegend": true,
         "type": "scatter",
         "x": [
          96155,
          194616,
          293157,
          393885,
          493789,
          592994,
          690265,
          784034,
          883408,
          980768
         ],
         "xaxis": "x",
         "y": [
          0.49,
          0.56,
          0.6,
          0.64,
          0.65,
          0.65,
          0.66,
          0.68,
          0.68,
          0.69
         ],
         "yaxis": "y"
        },
        {
         "customdata": [
          [
           0,
           1
          ],
          [
           0,
           2
          ],
          [
           0,
           3
          ],
          [
           0,
           4
          ],
          [
           0,
           5
          ],
          [
           0,
           6
          ],
          [
           0,
           7
          ],
          [
           0,
           8
          ],
          [
           0,
           9
          ],
          [
           0,
           10
          ]
         ],
         "hovertemplate": "Context Length: %{x:,}<br>Recall: %{y:.3f}<br>Search: semantic<br>Expand: %{customdata[0]}<br>Limit: %{customdata[1]}",
         "marker": {
          "color": "#636EFA",
          "size": [
           6,
           7,
           8,
           9,
           10,
           11,
           12,
           13,
           14,
           15
          ],
          "symbol": "diamond"
         },
         "mode": "markers+lines",
         "name": "Expand 0, semantic",
         "showlegend": true,
         "type": "scatter",
         "x": [
          92810,
          185723,
          280046,
          371506,
          459810,
          551190,
          643132,
          730888,
          819852,
          910914
         ],
         "xaxis": "x",
         "y": [
          0.45,
          0.55,
          0.59,
          0.61,
          0.63,
          0.63,
          0.64,
          0.66,
          0.66,
          0.68
         ],
         "yaxis": "y"
        },
        {
         "customdata": [
          [
           1,
           1
          ],
          [
           1,
           2
          ],
          [
           1,
           3
          ],
          [
           1,
           4
          ],
          [
           1,
           5
          ],
          [
           1,
           6
          ],
          [
           1,
           7
          ]
         ],
         "hovertemplate": "Context Length: %{x:,}<br>Recall: %{y:.3f}<br>Search: ftsOR<br>Expand: %{customdata[0]}<br>Limit: %{customdata[1]}",
         "marker": {
          "color": "#EF553B",
          "size": [
           6,
           7,
           8,
           9,
           10,
           11,
           12
          ],
          "symbol": "square-open"
         },
         "mode": "markers+lines",
         "name": "Expand 1, ftsOR",
         "showlegend": true,
         "type": "scatter",
         "x": [
          254644,
          484361,
          712327,
          944298,
          1162815,
          1385473,
          1609655
         ],
         "xaxis": "x",
         "y": [
          0.47,
          0.57,
          0.6,
          0.67,
          0.67,
          0.68,
          0.7
         ],
         "yaxis": "y"
        },
        {
         "customdata": [
          [
           1,
           1
          ],
          [
           1,
           2
          ],
          [
           1,
           3
          ],
          [
           1,
           4
          ],
          [
           1,
           5
          ],
          [
           1,
           6
          ],
          [
           1,
           7
          ]
         ],
         "hovertemplate": "Context Length: %{x:,}<br>Recall: %{y:.3f}<br>Search: hybridAND<br>Expand: %{customdata[0]}<br>Limit: %{customdata[1]}",
         "marker": {
          "color": "#EF553B",
          "size": [
           6,
           7,
           8,
           9,
           10,
           11,
           12
          ],
          "symbol": "circle"
         },
         "mode": "markers+lines",
         "name": "Expand 1, hybridAND",
         "showlegend": true,
         "type": "scatter",
         "x": [
          252561,
          455402,
          666024,
          857391,
          1045036,
          1238670,
          1420942
         ],
         "xaxis": "x",
         "y": [
          0.54,
          0.65,
          0.67,
          0.69,
          0.7,
          0.7,
          0.7
         ],
         "yaxis": "y"
        },
        {
         "customdata": [
          [
           1,
           1
          ],
          [
           1,
           2
          ],
          [
           1,
           3
          ],
          [
           1,
           4
          ],
          [
           1,
           5
          ],
          [
           1,
           6
          ],
          [
           1,
           7
          ]
         ],
         "hovertemplate": "Context Length: %{x:,}<br>Recall: %{y:.3f}<br>Search: hybridOR<br>Expand: %{customdata[0]}<br>Limit: %{customdata[1]}",
         "marker": {
          "color": "#EF553B",
          "size": [
           6,
           7,
           8,
           9,
           10,
           11,
           12
          ],
          "symbol": "circle-open"
         },
         "mode": "markers+lines",
         "name": "Expand 1, hybridOR",
         "showlegend": true,
         "type": "scatter",
         "x": [
          256468,
          470136,
          687671,
          896925,
          1110889,
          1317829,
          1516624
         ],
         "xaxis": "x",
         "y": [
          0.57,
          0.64,
          0.67,
          0.7,
          0.71,
          0.71,
          0.72
         ],
         "yaxis": "y"
        },
        {
         "customdata": [
          [
           1,
           1
          ],
          [
           1,
           2
          ],
          [
           1,
           3
          ],
          [
           1,
           4
          ],
          [
           1,
           5
          ],
          [
           1,
           6
          ],
          [
           1,
           7
          ]
         ],
         "hovertemplate": "Context Length: %{x:,}<br>Recall: %{y:.3f}<br>Search: semantic<br>Expand: %{customdata[0]}<br>Limit: %{customdata[1]}",
         "marker": {
          "color": "#EF553B",
          "size": [
           6,
           7,
           8,
           9,
           10,
           11,
           12
          ],
          "symbol": "diamond"
         },
         "mode": "markers+lines",
         "name": "Expand 1, semantic",
         "showlegend": true,
         "type": "scatter",
         "x": [
          251220,
          452079,
          665541,
          854860,
          1044672,
          1241360,
          1422292
         ],
         "xaxis": "x",
         "y": [
          0.56,
          0.64,
          0.66,
          0.68,
          0.69,
          0.69,
          0.7
         ],
         "yaxis": "y"
        },
        {
         "customdata": [
          [
           2,
           1
          ],
          [
           2,
           2
          ],
          [
           2,
           3
          ],
          [
           2,
           4
          ],
          [
           2,
           5
          ],
          [
           2,
           6
          ],
          [
           2,
           7
          ]
         ],
         "hovertemplate": "Context Length: %{x:,}<br>Recall: %{y:.3f}<br>Search: ftsOR<br>Expand: %{customdata[0]}<br>Limit: %{customdata[1]}",
         "marker": {
          "color": "#00CC96",
          "size": [
           6,
           7,
           8,
           9,
           10,
           11,
           12
          ],
          "symbol": "square-open"
         },
         "mode": "markers+lines",
         "name": "Expand 2, ftsOR",
         "showlegend": true,
         "type": "scatter",
         "x": [
          407794,
          755533,
          1085186,
          1424050,
          1741655,
          2069900,
          2387799
         ],
         "xaxis": "x",
         "y": [
          0.51,
          0.59,
          0.64,
          0.69,
          0.69,
          0.69,
          0.7
         ],
         "yaxis": "y"
        },
        {
         "customdata": [
          [
           2,
           1
          ],
          [
           2,
           2
          ],
          [
           2,
           3
          ],
          [
           2,
           4
          ],
          [
           2,
           5
          ],
          [
           2,
           6
          ],
          [
           2,
           7
          ]
         ],
         "hovertemplate": "Context Length: %{x:,}<br>Recall: %{y:.3f}<br>Search: hybridAND<br>Expand: %{customdata[0]}<br>Limit: %{customdata[1]}",
         "marker": {
          "color": "#00CC96",
          "size": [
           6,
           7,
           8,
           9,
           10,
           11,
           12
          ],
          "symbol": "circle"
         },
         "mode": "markers+lines",
         "name": "Expand 2, hybridAND",
         "showlegend": true,
         "type": "scatter",
         "x": [
          408935,
          706290,
          1015706,
          1295938,
          1556168,
          1825039,
          2075636
         ],
         "xaxis": "x",
         "y": [
          0.57,
          0.67,
          0.68,
          0.7,
          0.71,
          0.71,
          0.72
         ],
         "yaxis": "y"
        },
        {
         "customdata": [
          [
           2,
           1
          ],
          [
           2,
           2
          ],
          [
           2,
           3
          ],
          [
           2,
           4
          ],
          [
           2,
           5
          ],
          [
           2,
           6
          ],
          [
           2,
           7
          ]
         ],
         "hovertemplate": "Context Length: %{x:,}<br>Recall: %{y:.3f}<br>Search: hybridOR<br>Expand: %{customdata[0]}<br>Limit: %{customdata[1]}",
         "marker": {
          "color": "#00CC96",
          "size": [
           6,
           7,
           8,
           9,
           10,
           11,
           12
          ],
          "symbol": "circle-open"
         },
         "mode": "markers+lines",
         "name": "Expand 2, hybridOR",
         "showlegend": true,
         "type": "scatter",
         "x": [
          412487,
          734528,
          1048056,
          1350741,
          1659888,
          1953357,
          2233008
         ],
         "xaxis": "x",
         "y": [
          0.59,
          0.66,
          0.69,
          0.71,
          0.71,
          0.72,
          0.72
         ],
         "yaxis": "y"
        },
        {
         "customdata": [
          [
           2,
           1
          ],
          [
           2,
           2
          ],
          [
           2,
           3
          ],
          [
           2,
           4
          ],
          [
           2,
           5
          ],
          [
           2,
           6
          ],
          [
           2,
           7
          ]
         ],
         "hovertemplate": "Context Length: %{x:,}<br>Recall: %{y:.3f}<br>Search: semantic<br>Expand: %{customdata[0]}<br>Limit: %{customdata[1]}",
         "marker": {
          "color": "#00CC96",
          "size": [
           6,
           7,
           8,
           9,
           10,
           11,
           12
          ],
          "symbol": "diamond"
         },
         "mode": "markers+lines",
         "name": "Expand 2, semantic",
         "showlegend": true,
         "type": "scatter",
         "x": [
          407002,
          704697,
          1015791,
          1292388,
          1559399,
          1834676,
          2080690
         ],
         "xaxis": "x",
         "y": [
          0.58,
          0.66,
          0.68,
          0.69,
          0.71,
          0.71,
          0.71
         ],
         "yaxis": "y"
        },
        {
         "customdata": [
          [
           0,
           1
          ],
          [
           0,
           2
          ],
          [
           0,
           3
          ],
          [
           0,
           4
          ],
          [
           0,
           5
          ],
          [
           0,
           6
          ]
         ],
         "hovertemplate": "Context Length: %{x:,}<br>Recall: %{y:.3f}<br>Search: ftsOR<br>Expand: %{customdata[0]}<br>Limit: %{customdata[1]}",
         "marker": {
          "color": "#636EFA",
          "size": [
           6,
           7,
           8,
           9,
           10,
           11
          ],
          "symbol": "square-open"
         },
         "mode": "markers+lines",
         "name": "Expand 0, ftsOR",
         "showlegend": false,
         "type": "scatter",
         "x": [
          207089,
          419313,
          630127,
          836674,
          1042621,
          1250896
         ],
         "xaxis": "x2",
         "y": [
          0.5,
          0.64,
          0.66,
          0.67,
          0.68,
          0.68
         ],
         "yaxis": "y2"
        },
        {
         "customdata": [
          [
           0,
           1
          ],
          [
           0,
           2
          ],
          [
           0,
           3
          ],
          [
           0,
           4
          ],
          [
           0,
           5
          ],
          [
           0,
           6
          ]
         ],
         "hovertemplate": "Context Length: %{x:,}<br>Recall: %{y:.3f}<br>Search: hybridAND<br>Expand: %{customdata[0]}<br>Limit: %{customdata[1]}",
         "marker": {
          "color": "#636EFA",
          "size": [
           6,
           7,
           8,
           9,
           10,
           11
          ],
          "symbol": "circle"
         },
         "mode": "markers+lines",
         "name": "Expand 0, hybridAND",
         "showlegend": false,
         "type": "scatter",
         "x": [
          199393,
          382842,
          565177,
          747063,
          929249,
          1108745
         ],
         "xaxis": "x2",
         "y": [
          0.53,
          0.6,
          0.63,
          0.65,
          0.67,
          0.68
         ],
         "yaxis": "y2"
        },
        {
         "customdata": [
          [
           0,
           1
          ],
          [
           0,
           2
          ],
          [
           0,
           3
          ],
          [
           0,
           4
          ],
          [
           0,
           5
          ],
          [
           0,
           6
          ]
         ],
         "hovertemplate": "Context Length: %{x:,}<br>Recall: %{y:.3f}<br>Search: hybridOR<br>Expand: %{customdata[0]}<br>Limit: %{customdata[1]}",
         "marker": {
          "color": "#636EFA",
          "size": [
           6,
           7,
           8,
           9,
           10,
           11
          ],
          "symbol": "circle-open"
         },
         "mode": "markers+lines",
         "name": "Expand 0, hybridOR",
         "showlegend": false,
         "type": "scatter",
         "x": [
          204012,
          410116,
          609730,
          808248,
          1000082,
          1198594
         ],
         "xaxis": "x2",
         "y": [
          0.55,
          0.62,
          0.67,
          0.68,
          0.7,
          0.71
         ],
         "yaxis": "y2"
        },
        {
         "customdata": [
          [
           0,
           1
          ],
          [
           0,
           2
          ],
          [
           0,
           3
          ],
          [
           0,
           4
          ],
          [
           0,
           5
          ],
          [
           0,
           6
          ]
         ],
         "hovertemplate": "Context Length: %{x:,}<br>Recall: %{y:.3f}<br>Search: semantic<br>Expand: %{customdata[0]}<br>Limit: %{customdata[1]}",
         "marker": {
          "color": "#636EFA",
          "size": [
           6,
           7,
           8,
           9,
           10,
           11
          ],
          "symbol": "diamond"
         },
         "mode": "markers+lines",
         "name": "Expand 0, semantic",
         "showlegend": false,
         "type": "scatter",
         "x": [
          196266,
          381530,
          561881,
          744094,
          923715,
          1104402
         ],
         "xaxis": "x2",
         "y": [
          0.48,
          0.57,
          0.6,
          0.63,
          0.65,
          0.66
         ],
         "yaxis": "y2"
        },
        {
         "customdata": [
          [
           1,
           1
          ],
          [
           1,
           2
          ],
          [
           1,
           3
          ],
          [
           1,
           4
          ],
          [
           1,
           5
          ],
          [
           1,
           6
          ]
         ],
         "hovertemplate": "Context Length: %{x:,}<br>Recall: %{y:.3f}<br>Search: ftsOR<br>Expand: %{customdata[0]}<br>Limit: %{customdata[1]}",
         "marker": {
          "color": "#EF553B",
          "size": [
           6,
           7,
           8,
           9,
           10,
           11
          ],
          "symbol": "square-open"
         },
         "mode": "markers+lines",
         "name": "Expand 1, ftsOR",
         "showlegend": false,
         "type": "scatter",
         "x": [
          552418,
          1025796,
          1486802,
          1932714,
          2347176,
          2780470
         ],
         "xaxis": "x2",
         "y": [
          0.53,
          0.67,
          0.69,
          0.69,
          0.69,
          0.7
         ],
         "yaxis": "y2"
        },
        {
         "customdata": [
          [
           1,
           1
          ],
          [
           1,
           2
          ],
          [
           1,
           3
          ],
          [
           1,
           4
          ],
          [
           1,
           5
          ],
          [
           1,
           6
          ]
         ],
         "hovertemplate": "Context Length: %{x:,}<br>Recall: %{y:.3f}<br>Search: hybridAND<br>Expand: %{customdata[0]}<br>Limit: %{customdata[1]}",
         "marker": {
          "color": "#EF553B",
          "size": [
           6,
           7,
           8,
           9,
           10,
           11
          ],
          "symbol": "circle"
         },
         "mode": "markers+lines",
         "name": "Expand 1, hybridAND",
         "showlegend": false,
         "type": "scatter",
         "x": [
          544746,
          980447,
          1363633,
          1705837,
          2076721,
          2426260
         ],
         "xaxis": "x2",
         "y": [
          0.57,
          0.64,
          0.66,
          0.68,
          0.69,
          0.69
         ],
         "yaxis": "y2"
        },
        {
         "customdata": [
          [
           1,
           1
          ],
          [
           1,
           2
          ],
          [
           1,
           3
          ],
          [
           1,
           4
          ],
          [
           1,
           5
          ],
          [
           1,
           6
          ]
         ],
         "hovertemplate": "Context Length: %{x:,}<br>Recall: %{y:.3f}<br>Search: hybridOR<br>Expand: %{customdata[0]}<br>Limit: %{customdata[1]}",
         "marker": {
          "color": "#EF553B",
          "size": [
           6,
           7,
           8,
           9,
           10,
           11
          ],
          "symbol": "circle-open"
         },
         "mode": "markers+lines",
         "name": "Expand 1, hybridOR",
         "showlegend": false,
         "type": "scatter",
         "x": [
          541303,
          1002550,
          1421178,
          1835447,
          2228839,
          2583742
         ],
         "xaxis": "x2",
         "y": [
          0.58,
          0.65,
          0.69,
          0.7,
          0.71,
          0.72
         ],
         "yaxis": "y2"
        },
        {
         "customdata": [
          [
           1,
           1
          ],
          [
           1,
           2
          ],
          [
           1,
           3
          ],
          [
           1,
           4
          ],
          [
           1,
           5
          ],
          [
           1,
           6
          ]
         ],
         "hovertemplate": "Context Length: %{x:,}<br>Recall: %{y:.3f}<br>Search: semantic<br>Expand: %{customdata[0]}<br>Limit: %{customdata[1]}",
         "marker": {
          "color": "#EF553B",
          "size": [
           6,
           7,
           8,
           9,
           10,
           11
          ],
          "symbol": "diamond"
         },
         "mode": "markers+lines",
         "name": "Expand 1, semantic",
         "showlegend": false,
         "type": "scatter",
         "x": [
          531530,
          967780,
          1347442,
          1702384,
          2070157,
          2430017
         ],
         "xaxis": "x2",
         "y": [
          0.52,
          0.6,
          0.64,
          0.66,
          0.67,
          0.68
         ],
         "yaxis": "y2"
        },
        {
         "customdata": [
          [
           2,
           1
          ],
          [
           2,
           2
          ],
          [
           2,
           3
          ],
          [
           2,
           4
          ],
          [
           2,
           5
          ],
          [
           2,
           6
          ]
         ],
         "hovertemplate": "Context Length: %{x:,}<br>Recall: %{y:.3f}<br>Search: ftsOR<br>Expand: %{customdata[0]}<br>Limit: %{customdata[1]}",
         "marker": {
          "color": "#00CC96",
          "size": [
           6,
           7,
           8,
           9,
           10,
           11
          ],
          "symbol": "square-open"
         },
         "mode": "markers+lines",
         "name": "Expand 2, ftsOR",
         "showlegend": false,
         "type": "scatter",
         "x": [
          901724,
          1621348,
          2287772,
          2932583,
          3533285,
          4134520
         ],
         "xaxis": "x2",
         "y": [
          0.58,
          0.69,
          0.7,
          0.71,
          0.71,
          0.71
         ],
         "yaxis": "y2"
        },
        {
         "customdata": [
          [
           2,
           1
          ],
          [
           2,
           2
          ],
          [
           2,
           3
          ],
          [
           2,
           4
          ],
          [
           2,
           5
          ],
          [
           2,
           6
          ]
         ],
         "hovertemplate": "Context Length: %{x:,}<br>Recall: %{y:.3f}<br>Search: hybridAND<br>Expand: %{customdata[0]}<br>Limit: %{customdata[1]}",
         "marker": {
          "color": "#00CC96",
          "size": [
           6,
           7,
           8,
           9,
           10,
           11
          ],
          "symbol": "circle"
         },
         "mode": "markers+lines",
         "name": "Expand 2, hybridAND",
         "showlegend": false,
         "type": "scatter",
         "x": [
          885472,
          1500517,
          2050311,
          2514090,
          3010597,
          3505365
         ],
         "xaxis": "x2",
         "y": [
          0.59,
          0.67,
          0.69,
          0.7,
          0.7,
          0.71
         ],
         "yaxis": "y2"
        },
        {
         "customdata": [
          [
           2,
           1
          ],
          [
           2,
           2
          ],
          [
           2,
           3
          ],
          [
           2,
           4
          ],
          [
           2,
           5
          ],
          [
           2,
           6
          ]
         ],
         "hovertemplate": "Context Length: %{x:,}<br>Recall: %{y:.3f}<br>Search: hybridOR<br>Expand: %{customdata[0]}<br>Limit: %{customdata[1]}",
         "marker": {
          "color": "#00CC96",
          "size": [
           6,
           7,
           8,
           9,
           10,
           11
          ],
          "symbol": "circle-open"
         },
         "mode": "markers+lines",
         "name": "Expand 2, hybridOR",
         "showlegend": false,
         "type": "scatter",
         "x": [
          884263,
          1552441,
          2141778,
          2730557,
          3284727,
          3747253
         ],
         "xaxis": "x2",
         "y": [
          0.6,
          0.68,
          0.7,
          0.71,
          0.72,
          0.72
         ],
         "yaxis": "y2"
        },
        {
         "customdata": [
          [
           2,
           1
          ],
          [
           2,
           2
          ],
          [
           2,
           3
          ],
          [
           2,
           4
          ],
          [
           2,
           5
          ],
          [
           2,
           6
          ]
         ],
         "hovertemplate": "Context Length: %{x:,}<br>Recall: %{y:.3f}<br>Search: semantic<br>Expand: %{customdata[0]}<br>Limit: %{customdata[1]}",
         "marker": {
          "color": "#00CC96",
          "size": [
           6,
           7,
           8,
           9,
           10,
           11
          ],
          "symbol": "diamond"
         },
         "mode": "markers+lines",
         "name": "Expand 2, semantic",
         "showlegend": false,
         "type": "scatter",
         "x": [
          861126,
          1475115,
          2026204,
          2515230,
          3008991,
          3514411
         ],
         "xaxis": "x2",
         "y": [
          0.55,
          0.63,
          0.67,
          0.69,
          0.69,
          0.7
         ],
         "yaxis": "y2"
        },
        {
         "customdata": [
          [
           0,
           1
          ],
          [
           0,
           2
          ],
          [
           0,
           3
          ],
          [
           0,
           4
          ],
          [
           0,
           5
          ],
          [
           0,
           6
          ]
         ],
         "hovertemplate": "Context Length: %{x:,}<br>Recall: %{y:.3f}<br>Search: ftsOR<br>Expand: %{customdata[0]}<br>Limit: %{customdata[1]}",
         "marker": {
          "color": "#636EFA",
          "size": [
           6,
           7,
           8,
           9,
           10,
           11
          ],
          "symbol": "square-open"
         },
         "mode": "markers+lines",
         "name": "Expand 0, ftsOR",
         "showlegend": false,
         "type": "scatter",
         "x": [
          316724,
          633575,
          953272,
          1272876,
          1584864,
          1900441
         ],
         "xaxis": "x3",
         "y": [
          0.51,
          0.58,
          0.64,
          0.69,
          0.69,
          0.7
         ],
         "yaxis": "y3"
        },
        {
         "customdata": [
          [
           0,
           1
          ],
          [
           0,
           2
          ],
          [
           0,
           3
          ],
          [
           0,
           4
          ],
          [
           0,
           5
          ],
          [
           0,
           6
          ]
         ],
         "hovertemplate": "Context Length: %{x:,}<br>Recall: %{y:.3f}<br>Search: hybridAND<br>Expand: %{customdata[0]}<br>Limit: %{customdata[1]}",
         "marker": {
          "color": "#636EFA",
          "size": [
           6,
           7,
           8,
           9,
           10,
           11
          ],
          "symbol": "circle"
         },
         "mode": "markers+lines",
         "name": "Expand 0, hybridAND",
         "showlegend": false,
         "type": "scatter",
         "x": [
          281880,
          556509,
          810083,
          1063703,
          1305678,
          1535653
         ],
         "xaxis": "x3",
         "y": [
          0.48,
          0.57,
          0.63,
          0.65,
          0.68,
          0.69
         ],
         "yaxis": "y3"
        },
        {
         "customdata": [
          [
           0,
           1
          ],
          [
           0,
           2
          ],
          [
           0,
           3
          ],
          [
           0,
           4
          ],
          [
           0,
           5
          ],
          [
           0,
           6
          ]
         ],
         "hovertemplate": "Context Length: %{x:,}<br>Recall: %{y:.3f}<br>Search: hybridOR<br>Expand: %{customdata[0]}<br>Limit: %{customdata[1]}",
         "marker": {
          "color": "#636EFA",
          "size": [
           6,
           7,
           8,
           9,
           10,
           11
          ],
          "symbol": "circle-open"
         },
         "mode": "markers+lines",
         "name": "Expand 0, hybridOR",
         "showlegend": false,
         "type": "scatter",
         "x": [
          297418,
          606786,
          897156,
          1193111,
          1486709,
          1776417
         ],
         "xaxis": "x3",
         "y": [
          0.56,
          0.64,
          0.68,
          0.7,
          0.71,
          0.73
         ],
         "yaxis": "y3"
        },
        {
         "customdata": [
          [
           0,
           1
          ],
          [
           0,
           2
          ],
          [
           0,
           3
          ],
          [
           0,
           4
          ],
          [
           0,
           5
          ],
          [
           0,
           6
          ]
         ],
         "hovertemplate": "Context Length: %{x:,}<br>Recall: %{y:.3f}<br>Search: semantic<br>Expand: %{customdata[0]}<br>Limit: %{customdata[1]}",
         "marker": {
          "color": "#636EFA",
          "size": [
           6,
           7,
           8,
           9,
           10,
           11
          ],
          "symbol": "diamond"
         },
         "mode": "markers+lines",
         "name": "Expand 0, semantic",
         "showlegend": false,
         "type": "scatter",
         "x": [
          271641,
          542733,
          802144,
          1052255,
          1287372,
          1523111
         ],
         "xaxis": "x3",
         "y": [
          0.46,
          0.55,
          0.6,
          0.63,
          0.66,
          0.67
         ],
         "yaxis": "y3"
        },
        {
         "customdata": [
          [
           1,
           1
          ],
          [
           1,
           2
          ],
          [
           1,
           3
          ],
          [
           1,
           4
          ],
          [
           1,
           5
          ],
          [
           1,
           6
          ]
         ],
         "hovertemplate": "Context Length: %{x:,}<br>Recall: %{y:.3f}<br>Search: ftsOR<br>Expand: %{customdata[0]}<br>Limit: %{customdata[1]}",
         "marker": {
          "color": "#EF553B",
          "size": [
           6,
           7,
           8,
           9,
           10,
           11
          ],
          "symbol": "square-open"
         },
         "mode": "markers+lines",
         "name": "Expand 1, ftsOR",
         "showlegend": false,
         "type": "scatter",
         "x": [
          814638,
          1514486,
          2158880,
          2837294,
          3503427,
          4152761
         ],
         "xaxis": "x3",
         "y": [
          0.55,
          0.62,
          0.66,
          0.71,
          0.71,
          0.72
         ],
         "yaxis": "y3"
        },
        {
         "customdata": [
          [
           1,
           1
          ],
          [
           1,
           2
          ],
          [
           1,
           3
          ],
          [
           1,
           4
          ],
          [
           1,
           5
          ],
          [
           1,
           6
          ]
         ],
         "hovertemplate": "Context Length: %{x:,}<br>Recall: %{y:.3f}<br>Search: hybridAND<br>Expand: %{customdata[0]}<br>Limit: %{customdata[1]}",
         "marker": {
          "color": "#EF553B",
          "size": [
           6,
           7,
           8,
           9,
           10,
           11
          ],
          "symbol": "circle"
         },
         "mode": "markers+lines",
         "name": "Expand 1, hybridAND",
         "showlegend": false,
         "type": "scatter",
         "x": [
          759893,
          1375900,
          1889171,
          2396795,
          2918881,
          3403145
         ],
         "xaxis": "x3",
         "y": [
          0.53,
          0.62,
          0.67,
          0.68,
          0.71,
          0.71
         ],
         "yaxis": "y3"
        },
        {
         "customdata": [
          [
           1,
           1
          ],
          [
           1,
           2
          ],
          [
           1,
           3
          ],
          [
           1,
           4
          ],
          [
           1,
           5
          ],
          [
           1,
           6
          ]
         ],
         "hovertemplate": "Context Length: %{x:,}<br>Recall: %{y:.3f}<br>Search: hybridOR<br>Expand: %{customdata[0]}<br>Limit: %{customdata[1]}",
         "marker": {
          "color": "#EF553B",
          "size": [
           6,
           7,
           8,
           9,
           10,
           11
          ],
          "symbol": "circle-open"
         },
         "mode": "markers+lines",
         "name": "Expand 1, hybridOR",
         "showlegend": false,
         "type": "scatter",
         "x": [
          793262,
          1437021,
          2008436,
          2583764,
          3186683,
          3751622
         ],
         "xaxis": "x3",
         "y": [
          0.6,
          0.68,
          0.7,
          0.72,
          0.73,
          0.73
         ],
         "yaxis": "y3"
        },
        {
         "customdata": [
          [
           1,
           1
          ],
          [
           1,
           2
          ],
          [
           1,
           3
          ],
          [
           1,
           4
          ],
          [
           1,
           5
          ],
          [
           1,
           6
          ]
         ],
         "hovertemplate": "Context Length: %{x:,}<br>Recall: %{y:.3f}<br>Search: semantic<br>Expand: %{customdata[0]}<br>Limit: %{customdata[1]}",
         "marker": {
          "color": "#EF553B",
          "size": [
           6,
           7,
           8,
           9,
           10,
           11
          ],
          "symbol": "diamond"
         },
         "mode": "markers+lines",
         "name": "Expand 1, semantic",
         "showlegend": false,
         "type": "scatter",
         "x": [
          756651,
          1345267,
          1854370,
          2370040,
          2877233,
          3380674
         ],
         "xaxis": "x3",
         "y": [
          0.51,
          0.59,
          0.65,
          0.67,
          0.69,
          0.69
         ],
         "yaxis": "y3"
        },
        {
         "customdata": [
          [
           2,
           1
          ],
          [
           2,
           2
          ],
          [
           2,
           3
          ],
          [
           2,
           4
          ],
          [
           2,
           5
          ],
          [
           2,
           6
          ]
         ],
         "hovertemplate": "Context Length: %{x:,}<br>Recall: %{y:.3f}<br>Search: ftsOR<br>Expand: %{customdata[0]}<br>Limit: %{customdata[1]}",
         "marker": {
          "color": "#00CC96",
          "size": [
           6,
           7,
           8,
           9,
           10,
           11
          ],
          "symbol": "square-open"
         },
         "mode": "markers+lines",
         "name": "Expand 2, ftsOR",
         "showlegend": false,
         "type": "scatter",
         "x": [
          1323372,
          2379814,
          3331361,
          4309163,
          5283771,
          6211353
         ],
         "xaxis": "x3",
         "y": [
          0.58,
          0.65,
          0.69,
          0.71,
          0.72,
          0.72
         ],
         "yaxis": "y3"
        },
        {
         "customdata": [
          [
           2,
           1
          ],
          [
           2,
           2
          ],
          [
           2,
           3
          ],
          [
           2,
           4
          ],
          [
           2,
           5
          ],
          [
           2,
           6
          ]
         ],
         "hovertemplate": "Context Length: %{x:,}<br>Recall: %{y:.3f}<br>Search: hybridAND<br>Expand: %{customdata[0]}<br>Limit: %{customdata[1]}",
         "marker": {
          "color": "#00CC96",
          "size": [
           6,
           7,
           8,
           9,
           10,
           11
          ],
          "symbol": "circle"
         },
         "mode": "markers+lines",
         "name": "Expand 2, hybridAND",
         "showlegend": false,
         "type": "scatter",
         "x": [
          1234633,
          2154297,
          2885068,
          3605138,
          4346548,
          5037309
         ],
         "xaxis": "x3",
         "y": [
          0.56,
          0.64,
          0.68,
          0.69,
          0.72,
          0.72
         ],
         "yaxis": "y3"
        },
        {
         "customdata": [
          [
           2,
           1
          ],
          [
           2,
           2
          ],
          [
           2,
           3
          ],
          [
           2,
           4
          ],
          [
           2,
           5
          ],
          [
           2,
           6
          ]
         ],
         "hovertemplate": "Context Length: %{x:,}<br>Recall: %{y:.3f}<br>Search: hybridOR<br>Expand: %{customdata[0]}<br>Limit: %{customdata[1]}",
         "marker": {
          "color": "#00CC96",
          "size": [
           6,
           7,
           8,
           9,
           10,
           11
          ],
          "symbol": "circle-open"
         },
         "mode": "markers+lines",
         "name": "Expand 2, hybridOR",
         "showlegend": false,
         "type": "scatter",
         "x": [
          1284793,
          2247909,
          3081366,
          3880317,
          4721540,
          5505773
         ],
         "xaxis": "x3",
         "y": [
          0.62,
          0.69,
          0.71,
          0.72,
          0.73,
          0.73
         ],
         "yaxis": "y3"
        },
        {
         "customdata": [
          [
           2,
           1
          ],
          [
           2,
           2
          ],
          [
           2,
           3
          ],
          [
           2,
           4
          ],
          [
           2,
           5
          ],
          [
           2,
           6
          ]
         ],
         "hovertemplate": "Context Length: %{x:,}<br>Recall: %{y:.3f}<br>Search: semantic<br>Expand: %{customdata[0]}<br>Limit: %{customdata[1]}",
         "marker": {
          "color": "#00CC96",
          "size": [
           6,
           7,
           8,
           9,
           10,
           11
          ],
          "symbol": "diamond"
         },
         "mode": "markers+lines",
         "name": "Expand 2, semantic",
         "showlegend": false,
         "type": "scatter",
         "x": [
          1220883,
          2106192,
          2825608,
          3576425,
          4298968,
          5007794
         ],
         "xaxis": "x3",
         "y": [
          0.53,
          0.63,
          0.67,
          0.68,
          0.71,
          0.71
         ],
         "yaxis": "y3"
        },
        {
         "customdata": [
          [
           0,
           1
          ],
          [
           0,
           2
          ],
          [
           0,
           3
          ],
          [
           0,
           4
          ],
          [
           0,
           5
          ]
         ],
         "hovertemplate": "Context Length: %{x:,}<br>Recall: %{y:.3f}<br>Search: ftsOR<br>Expand: %{customdata[0]}<br>Limit: %{customdata[1]}",
         "marker": {
          "color": "#636EFA",
          "size": [
           6,
           7,
           8,
           9,
           10
          ],
          "symbol": "square-open"
         },
         "mode": "markers+lines",
         "name": "Expand 0, ftsOR",
         "showlegend": false,
         "type": "scatter",
         "x": [
          417439,
          835029,
          1242554,
          1655222,
          2050884
         ],
         "xaxis": "x4",
         "y": [
          0.54,
          0.59,
          0.64,
          0.68,
          0.69
         ],
         "yaxis": "y4"
        },
        {
         "customdata": [
          [
           0,
           1
          ],
          [
           0,
           2
          ],
          [
           0,
           3
          ],
          [
           0,
           4
          ],
          [
           0,
           5
          ]
         ],
         "hovertemplate": "Context Length: %{x:,}<br>Recall: %{y:.3f}<br>Search: hybridAND<br>Expand: %{customdata[0]}<br>Limit: %{customdata[1]}",
         "marker": {
          "color": "#636EFA",
          "size": [
           6,
           7,
           8,
           9,
           10
          ],
          "symbol": "circle"
         },
         "mode": "markers+lines",
         "name": "Expand 0, hybridAND",
         "showlegend": false,
         "type": "scatter",
         "x": [
          357545,
          686117,
          1001934,
          1325340,
          1639462
         ],
         "xaxis": "x4",
         "y": [
          0.49,
          0.57,
          0.62,
          0.65,
          0.67
         ],
         "yaxis": "y4"
        },
        {
         "customdata": [
          [
           0,
           1
          ],
          [
           0,
           2
          ],
          [
           0,
           3
          ],
          [
           0,
           4
          ],
          [
           0,
           5
          ]
         ],
         "hovertemplate": "Context Length: %{x:,}<br>Recall: %{y:.3f}<br>Search: hybridOR<br>Expand: %{customdata[0]}<br>Limit: %{customdata[1]}",
         "marker": {
          "color": "#636EFA",
          "size": [
           6,
           7,
           8,
           9,
           10
          ],
          "symbol": "circle-open"
         },
         "mode": "markers+lines",
         "name": "Expand 0, hybridOR",
         "showlegend": false,
         "type": "scatter",
         "x": [
          379452,
          764450,
          1141270,
          1537688,
          1916278
         ],
         "xaxis": "x4",
         "y": [
          0.51,
          0.63,
          0.68,
          0.7,
          0.71
         ],
         "yaxis": "y4"
        },
        {
         "customdata": [
          [
           0,
           1
          ],
          [
           0,
           2
          ],
          [
           0,
           3
          ],
          [
           0,
           4
          ],
          [
           0,
           5
          ]
         ],
         "hovertemplate": "Context Length: %{x:,}<br>Recall: %{y:.3f}<br>Search: semantic<br>Expand: %{customdata[0]}<br>Limit: %{customdata[1]}",
         "marker": {
          "color": "#636EFA",
          "size": [
           6,
           7,
           8,
           9,
           10
          ],
          "symbol": "diamond"
         },
         "mode": "markers+lines",
         "name": "Expand 0, semantic",
         "showlegend": false,
         "type": "scatter",
         "x": [
          339148,
          657257,
          969320,
          1298095,
          1611628
         ],
         "xaxis": "x4",
         "y": [
          0.47,
          0.55,
          0.59,
          0.63,
          0.64
         ],
         "yaxis": "y4"
        },
        {
         "customdata": [
          [
           1,
           1
          ],
          [
           1,
           2
          ],
          [
           1,
           3
          ],
          [
           1,
           4
          ],
          [
           1,
           5
          ]
         ],
         "hovertemplate": "Context Length: %{x:,}<br>Recall: %{y:.3f}<br>Search: ftsOR<br>Expand: %{customdata[0]}<br>Limit: %{customdata[1]}",
         "marker": {
          "color": "#EF553B",
          "size": [
           6,
           7,
           8,
           9,
           10
          ],
          "symbol": "square-open"
         },
         "mode": "markers+lines",
         "name": "Expand 1, ftsOR",
         "showlegend": false,
         "type": "scatter",
         "x": [
          1059010,
          1944536,
          2813106,
          3704774,
          4480898
         ],
         "xaxis": "x4",
         "y": [
          0.58,
          0.63,
          0.68,
          0.7,
          0.72
         ],
         "yaxis": "y4"
        },
        {
         "customdata": [
          [
           1,
           1
          ],
          [
           1,
           2
          ],
          [
           1,
           3
          ],
          [
           1,
           4
          ],
          [
           1,
           5
          ]
         ],
         "hovertemplate": "Context Length: %{x:,}<br>Recall: %{y:.3f}<br>Search: hybridAND<br>Expand: %{customdata[0]}<br>Limit: %{customdata[1]}",
         "marker": {
          "color": "#EF553B",
          "size": [
           6,
           7,
           8,
           9,
           10
          ],
          "symbol": "circle"
         },
         "mode": "markers+lines",
         "name": "Expand 1, hybridAND",
         "showlegend": false,
         "type": "scatter",
         "x": [
          976437,
          1674221,
          2349476,
          2970182,
          3598574
         ],
         "xaxis": "x4",
         "y": [
          0.55,
          0.62,
          0.66,
          0.68,
          0.7
         ],
         "yaxis": "y4"
        },
        {
         "customdata": [
          [
           1,
           1
          ],
          [
           1,
           2
          ],
          [
           1,
           3
          ],
          [
           1,
           4
          ],
          [
           1,
           5
          ]
         ],
         "hovertemplate": "Context Length: %{x:,}<br>Recall: %{y:.3f}<br>Search: hybridOR<br>Expand: %{customdata[0]}<br>Limit: %{customdata[1]}",
         "marker": {
          "color": "#EF553B",
          "size": [
           6,
           7,
           8,
           9,
           10
          ],
          "symbol": "circle-open"
         },
         "mode": "markers+lines",
         "name": "Expand 1, hybridOR",
         "showlegend": false,
         "type": "scatter",
         "x": [
          1013279,
          1796170,
          2569778,
          3347447,
          4063945
         ],
         "xaxis": "x4",
         "y": [
          0.58,
          0.66,
          0.7,
          0.72,
          0.72
         ],
         "yaxis": "y4"
        },
        {
         "customdata": [
          [
           1,
           1
          ],
          [
           1,
           2
          ],
          [
           1,
           3
          ],
          [
           1,
           4
          ],
          [
           1,
           5
          ]
         ],
         "hovertemplate": "Context Length: %{x:,}<br>Recall: %{y:.3f}<br>Search: semantic<br>Expand: %{customdata[0]}<br>Limit: %{customdata[1]}",
         "marker": {
          "color": "#EF553B",
          "size": [
           6,
           7,
           8,
           9,
           10
          ],
          "symbol": "diamond"
         },
         "mode": "markers+lines",
         "name": "Expand 1, semantic",
         "showlegend": false,
         "type": "scatter",
         "x": [
          943896,
          1622899,
          2279048,
          2899145,
          3525581
         ],
         "xaxis": "x4",
         "y": [
          0.52,
          0.59,
          0.65,
          0.67,
          0.68
         ],
         "yaxis": "y4"
        }
       ],
       "layout": {
        "annotations": [
         {
          "font": {
           "size": 16
          },
          "showarrow": false,
          "text": "Chunk Size 500: Recall vs Context Length",
          "x": 0.5,
          "xanchor": "center",
          "xref": "paper",
          "y": 1,
          "yanchor": "bottom",
          "yref": "paper"
         },
         {
          "font": {
           "size": 16
          },
          "showarrow": false,
          "text": "Chunk Size 1000: Recall vs Context Length",
          "x": 0.5,
          "xanchor": "center",
          "xref": "paper",
          "y": 0.7250000000000001,
          "yanchor": "bottom",
          "yref": "paper"
         },
         {
          "font": {
           "size": 16
          },
          "showarrow": false,
          "text": "Chunk Size 1500: Recall vs Context Length",
          "x": 0.5,
          "xanchor": "center",
          "xref": "paper",
          "y": 0.45,
          "yanchor": "bottom",
          "yref": "paper"
         },
         {
          "font": {
           "size": 16
          },
          "showarrow": false,
          "text": "Chunk Size 2000: Recall vs Context Length",
          "x": 0.5,
          "xanchor": "center",
          "xref": "paper",
          "y": 0.175,
          "yanchor": "bottom",
          "yref": "paper"
         }
        ],
        "height": 1200,
        "legend": {
         "title": {
          "text": "Configuration"
         }
        },
        "showlegend": true,
        "template": {
         "data": {
          "bar": [
           {
            "error_x": {
             "color": "#f2f5fa"
            },
            "error_y": {
             "color": "#f2f5fa"
            },
            "marker": {
             "line": {
              "color": "rgb(17,17,17)",
              "width": 0.5
             },
             "pattern": {
              "fillmode": "overlay",
              "size": 10,
              "solidity": 0.2
             }
            },
            "type": "bar"
           }
          ],
          "barpolar": [
           {
            "marker": {
             "line": {
              "color": "rgb(17,17,17)",
              "width": 0.5
             },
             "pattern": {
              "fillmode": "overlay",
              "size": 10,
              "solidity": 0.2
             }
            },
            "type": "barpolar"
           }
          ],
          "carpet": [
           {
            "aaxis": {
             "endlinecolor": "#A2B1C6",
             "gridcolor": "#506784",
             "linecolor": "#506784",
             "minorgridcolor": "#506784",
             "startlinecolor": "#A2B1C6"
            },
            "baxis": {
             "endlinecolor": "#A2B1C6",
             "gridcolor": "#506784",
             "linecolor": "#506784",
             "minorgridcolor": "#506784",
             "startlinecolor": "#A2B1C6"
            },
            "type": "carpet"
           }
          ],
          "choropleth": [
           {
            "colorbar": {
             "outlinewidth": 0,
             "ticks": ""
            },
            "type": "choropleth"
           }
          ],
          "contour": [
           {
            "colorbar": {
             "outlinewidth": 0,
             "ticks": ""
            },
            "colorscale": [
             [
              0,
              "#0d0887"
             ],
             [
              0.1111111111111111,
              "#46039f"
             ],
             [
              0.2222222222222222,
              "#7201a8"
             ],
             [
              0.3333333333333333,
              "#9c179e"
             ],
             [
              0.4444444444444444,
              "#bd3786"
             ],
             [
              0.5555555555555556,
              "#d8576b"
             ],
             [
              0.6666666666666666,
              "#ed7953"
             ],
             [
              0.7777777777777778,
              "#fb9f3a"
             ],
             [
              0.8888888888888888,
              "#fdca26"
             ],
             [
              1,
              "#f0f921"
             ]
            ],
            "type": "contour"
           }
          ],
          "contourcarpet": [
           {
            "colorbar": {
             "outlinewidth": 0,
             "ticks": ""
            },
            "type": "contourcarpet"
           }
          ],
          "heatmap": [
           {
            "colorbar": {
             "outlinewidth": 0,
             "ticks": ""
            },
            "colorscale": [
             [
              0,
              "#0d0887"
             ],
             [
              0.1111111111111111,
              "#46039f"
             ],
             [
              0.2222222222222222,
              "#7201a8"
             ],
             [
              0.3333333333333333,
              "#9c179e"
             ],
             [
              0.4444444444444444,
              "#bd3786"
             ],
             [
              0.5555555555555556,
              "#d8576b"
             ],
             [
              0.6666666666666666,
              "#ed7953"
             ],
             [
              0.7777777777777778,
              "#fb9f3a"
             ],
             [
              0.8888888888888888,
              "#fdca26"
             ],
             [
              1,
              "#f0f921"
             ]
            ],
            "type": "heatmap"
           }
          ],
          "heatmapgl": [
           {
            "colorbar": {
             "outlinewidth": 0,
             "ticks": ""
            },
            "colorscale": [
             [
              0,
              "#0d0887"
             ],
             [
              0.1111111111111111,
              "#46039f"
             ],
             [
              0.2222222222222222,
              "#7201a8"
             ],
             [
              0.3333333333333333,
              "#9c179e"
             ],
             [
              0.4444444444444444,
              "#bd3786"
             ],
             [
              0.5555555555555556,
              "#d8576b"
             ],
             [
              0.6666666666666666,
              "#ed7953"
             ],
             [
              0.7777777777777778,
              "#fb9f3a"
             ],
             [
              0.8888888888888888,
              "#fdca26"
             ],
             [
              1,
              "#f0f921"
             ]
            ],
            "type": "heatmapgl"
           }
          ],
          "histogram": [
           {
            "marker": {
             "pattern": {
              "fillmode": "overlay",
              "size": 10,
              "solidity": 0.2
             }
            },
            "type": "histogram"
           }
          ],
          "histogram2d": [
           {
            "colorbar": {
             "outlinewidth": 0,
             "ticks": ""
            },
            "colorscale": [
             [
              0,
              "#0d0887"
             ],
             [
              0.1111111111111111,
              "#46039f"
             ],
             [
              0.2222222222222222,
              "#7201a8"
             ],
             [
              0.3333333333333333,
              "#9c179e"
             ],
             [
              0.4444444444444444,
              "#bd3786"
             ],
             [
              0.5555555555555556,
              "#d8576b"
             ],
             [
              0.6666666666666666,
              "#ed7953"
             ],
             [
              0.7777777777777778,
              "#fb9f3a"
             ],
             [
              0.8888888888888888,
              "#fdca26"
             ],
             [
              1,
              "#f0f921"
             ]
            ],
            "type": "histogram2d"
           }
          ],
          "histogram2dcontour": [
           {
            "colorbar": {
             "outlinewidth": 0,
             "ticks": ""
            },
            "colorscale": [
             [
              0,
              "#0d0887"
             ],
             [
              0.1111111111111111,
              "#46039f"
             ],
             [
              0.2222222222222222,
              "#7201a8"
             ],
             [
              0.3333333333333333,
              "#9c179e"
             ],
             [
              0.4444444444444444,
              "#bd3786"
             ],
             [
              0.5555555555555556,
              "#d8576b"
             ],
             [
              0.6666666666666666,
              "#ed7953"
             ],
             [
              0.7777777777777778,
              "#fb9f3a"
             ],
             [
              0.8888888888888888,
              "#fdca26"
             ],
             [
              1,
              "#f0f921"
             ]
            ],
            "type": "histogram2dcontour"
           }
          ],
          "mesh3d": [
           {
            "colorbar": {
             "outlinewidth": 0,
             "ticks": ""
            },
            "type": "mesh3d"
           }
          ],
          "parcoords": [
           {
            "line": {
             "colorbar": {
              "outlinewidth": 0,
              "ticks": ""
             }
            },
            "type": "parcoords"
           }
          ],
          "pie": [
           {
            "automargin": true,
            "type": "pie"
           }
          ],
          "scatter": [
           {
            "marker": {
             "line": {
              "color": "#283442"
             }
            },
            "type": "scatter"
           }
          ],
          "scatter3d": [
           {
            "line": {
             "colorbar": {
              "outlinewidth": 0,
              "ticks": ""
             }
            },
            "marker": {
             "colorbar": {
              "outlinewidth": 0,
              "ticks": ""
             }
            },
            "type": "scatter3d"
           }
          ],
          "scattercarpet": [
           {
            "marker": {
             "colorbar": {
              "outlinewidth": 0,
              "ticks": ""
             }
            },
            "type": "scattercarpet"
           }
          ],
          "scattergeo": [
           {
            "marker": {
             "colorbar": {
              "outlinewidth": 0,
              "ticks": ""
             }
            },
            "type": "scattergeo"
           }
          ],
          "scattergl": [
           {
            "marker": {
             "line": {
              "color": "#283442"
             }
            },
            "type": "scattergl"
           }
          ],
          "scattermapbox": [
           {
            "marker": {
             "colorbar": {
              "outlinewidth": 0,
              "ticks": ""
             }
            },
            "type": "scattermapbox"
           }
          ],
          "scatterpolar": [
           {
            "marker": {
             "colorbar": {
              "outlinewidth": 0,
              "ticks": ""
             }
            },
            "type": "scatterpolar"
           }
          ],
          "scatterpolargl": [
           {
            "marker": {
             "colorbar": {
              "outlinewidth": 0,
              "ticks": ""
             }
            },
            "type": "scatterpolargl"
           }
          ],
          "scatterternary": [
           {
            "marker": {
             "colorbar": {
              "outlinewidth": 0,
              "ticks": ""
             }
            },
            "type": "scatterternary"
           }
          ],
          "surface": [
           {
            "colorbar": {
             "outlinewidth": 0,
             "ticks": ""
            },
            "colorscale": [
             [
              0,
              "#0d0887"
             ],
             [
              0.1111111111111111,
              "#46039f"
             ],
             [
              0.2222222222222222,
              "#7201a8"
             ],
             [
              0.3333333333333333,
              "#9c179e"
             ],
             [
              0.4444444444444444,
              "#bd3786"
             ],
             [
              0.5555555555555556,
              "#d8576b"
             ],
             [
              0.6666666666666666,
              "#ed7953"
             ],
             [
              0.7777777777777778,
              "#fb9f3a"
             ],
             [
              0.8888888888888888,
              "#fdca26"
             ],
             [
              1,
              "#f0f921"
             ]
            ],
            "type": "surface"
           }
          ],
          "table": [
           {
            "cells": {
             "fill": {
              "color": "#506784"
             },
             "line": {
              "color": "rgb(17,17,17)"
             }
            },
            "header": {
             "fill": {
              "color": "#2a3f5f"
             },
             "line": {
              "color": "rgb(17,17,17)"
             }
            },
            "type": "table"
           }
          ]
         },
         "layout": {
          "annotationdefaults": {
           "arrowcolor": "#f2f5fa",
           "arrowhead": 0,
           "arrowwidth": 1
          },
          "autotypenumbers": "strict",
          "coloraxis": {
           "colorbar": {
            "outlinewidth": 0,
            "ticks": ""
           }
          },
          "colorscale": {
           "diverging": [
            [
             0,
             "#8e0152"
            ],
            [
             0.1,
             "#c51b7d"
            ],
            [
             0.2,
             "#de77ae"
            ],
            [
             0.3,
             "#f1b6da"
            ],
            [
             0.4,
             "#fde0ef"
            ],
            [
             0.5,
             "#f7f7f7"
            ],
            [
             0.6,
             "#e6f5d0"
            ],
            [
             0.7,
             "#b8e186"
            ],
            [
             0.8,
             "#7fbc41"
            ],
            [
             0.9,
             "#4d9221"
            ],
            [
             1,
             "#276419"
            ]
           ],
           "sequential": [
            [
             0,
             "#0d0887"
            ],
            [
             0.1111111111111111,
             "#46039f"
            ],
            [
             0.2222222222222222,
             "#7201a8"
            ],
            [
             0.3333333333333333,
             "#9c179e"
            ],
            [
             0.4444444444444444,
             "#bd3786"
            ],
            [
             0.5555555555555556,
             "#d8576b"
            ],
            [
             0.6666666666666666,
             "#ed7953"
            ],
            [
             0.7777777777777778,
             "#fb9f3a"
            ],
            [
             0.8888888888888888,
             "#fdca26"
            ],
            [
             1,
             "#f0f921"
            ]
           ],
           "sequentialminus": [
            [
             0,
             "#0d0887"
            ],
            [
             0.1111111111111111,
             "#46039f"
            ],
            [
             0.2222222222222222,
             "#7201a8"
            ],
            [
             0.3333333333333333,
             "#9c179e"
            ],
            [
             0.4444444444444444,
             "#bd3786"
            ],
            [
             0.5555555555555556,
             "#d8576b"
            ],
            [
             0.6666666666666666,
             "#ed7953"
            ],
            [
             0.7777777777777778,
             "#fb9f3a"
            ],
            [
             0.8888888888888888,
             "#fdca26"
            ],
            [
             1,
             "#f0f921"
            ]
           ]
          },
          "colorway": [
           "#636efa",
           "#EF553B",
           "#00cc96",
           "#ab63fa",
           "#FFA15A",
           "#19d3f3",
           "#FF6692",
           "#B6E880",
           "#FF97FF",
           "#FECB52"
          ],
          "font": {
           "color": "#f2f5fa"
          },
          "geo": {
           "bgcolor": "rgb(17,17,17)",
           "lakecolor": "rgb(17,17,17)",
           "landcolor": "rgb(17,17,17)",
           "showlakes": true,
           "showland": true,
           "subunitcolor": "#506784"
          },
          "hoverlabel": {
           "align": "left"
          },
          "hovermode": "closest",
          "mapbox": {
           "style": "dark"
          },
          "paper_bgcolor": "rgb(17,17,17)",
          "plot_bgcolor": "rgb(17,17,17)",
          "polar": {
           "angularaxis": {
            "gridcolor": "#506784",
            "linecolor": "#506784",
            "ticks": ""
           },
           "bgcolor": "rgb(17,17,17)",
           "radialaxis": {
            "gridcolor": "#506784",
            "linecolor": "#506784",
            "ticks": ""
           }
          },
          "scene": {
           "xaxis": {
            "backgroundcolor": "rgb(17,17,17)",
            "gridcolor": "#506784",
            "gridwidth": 2,
            "linecolor": "#506784",
            "showbackground": true,
            "ticks": "",
            "zerolinecolor": "#C8D4E3"
           },
           "yaxis": {
            "backgroundcolor": "rgb(17,17,17)",
            "gridcolor": "#506784",
            "gridwidth": 2,
            "linecolor": "#506784",
            "showbackground": true,
            "ticks": "",
            "zerolinecolor": "#C8D4E3"
           },
           "zaxis": {
            "backgroundcolor": "rgb(17,17,17)",
            "gridcolor": "#506784",
            "gridwidth": 2,
            "linecolor": "#506784",
            "showbackground": true,
            "ticks": "",
            "zerolinecolor": "#C8D4E3"
           }
          },
          "shapedefaults": {
           "line": {
            "color": "#f2f5fa"
           }
          },
          "sliderdefaults": {
           "bgcolor": "#C8D4E3",
           "bordercolor": "rgb(17,17,17)",
           "borderwidth": 1,
           "tickwidth": 0
          },
          "ternary": {
           "aaxis": {
            "gridcolor": "#506784",
            "linecolor": "#506784",
            "ticks": ""
           },
           "baxis": {
            "gridcolor": "#506784",
            "linecolor": "#506784",
            "ticks": ""
           },
           "bgcolor": "rgb(17,17,17)",
           "caxis": {
            "gridcolor": "#506784",
            "linecolor": "#506784",
            "ticks": ""
           }
          },
          "title": {
           "x": 0.05
          },
          "updatemenudefaults": {
           "bgcolor": "#506784",
           "borderwidth": 0
          },
          "xaxis": {
           "automargin": true,
           "gridcolor": "#283442",
           "linecolor": "#506784",
           "ticks": "",
           "title": {
            "standoff": 15
           },
           "zerolinecolor": "#283442",
           "zerolinewidth": 2
          },
          "yaxis": {
           "automargin": true,
           "gridcolor": "#283442",
           "linecolor": "#506784",
           "ticks": "",
           "title": {
            "standoff": 15
           },
           "zerolinecolor": "#283442",
           "zerolinewidth": 2
          }
         }
        },
        "xaxis": {
         "anchor": "y",
         "domain": [
          0,
          1
         ],
         "title": {
          "text": "Context Length"
         }
        },
        "xaxis2": {
         "anchor": "y2",
         "domain": [
          0,
          1
         ],
         "title": {
          "text": "Context Length"
         }
        },
        "xaxis3": {
         "anchor": "y3",
         "domain": [
          0,
          1
         ],
         "title": {
          "text": "Context Length"
         }
        },
        "xaxis4": {
         "anchor": "y4",
         "domain": [
          0,
          1
         ]
        },
        "yaxis": {
         "anchor": "x",
         "domain": [
          0.825,
          1
         ],
         "title": {
          "text": "Recall"
         }
        },
        "yaxis2": {
         "anchor": "x2",
         "domain": [
          0.55,
          0.7250000000000001
         ],
         "title": {
          "text": "Recall"
         }
        },
        "yaxis3": {
         "anchor": "x3",
         "domain": [
          0.275,
          0.45
         ],
         "title": {
          "text": "Recall"
         }
        },
        "yaxis4": {
         "anchor": "x4",
         "domain": [
          0,
          0.175
         ]
        }
       }
      }
     },
     "metadata": {},
     "output_type": "display_data"
    }
   ],
   "source": [
    "plot_results(df_summary)"
   ]
  },
  {
   "cell_type": "code",
   "execution_count": 76,
   "id": "3a767231",
   "metadata": {},
   "outputs": [
    {
     "data": {
      "application/vnd.plotly.v1+json": {
       "config": {
        "plotlyServerURL": "https://plot.ly"
       },
       "data": [
        {
         "customdata": [
          [
           0,
           417439
          ]
         ],
         "hovertemplate": "Limit: %{x}<br>Recall: %{y:.3f}<br>Search: ftsOR<br>Expand: %{customdata[0]}<br>Context Length: %{customdata[1]:,}",
         "line": {
          "color": "#636EFA"
         },
         "marker": {
          "size": [
           6
          ],
          "symbol": "square-open"
         },
         "mode": "lines+markers",
         "name": "Expand 0, ftsOR",
         "type": "scatter",
         "x": [
          1
         ],
         "xaxis": "x",
         "y": [
          0.54
         ],
         "yaxis": "y"
        },
        {
         "customdata": [
          [
           0,
           357545
          ]
         ],
         "hovertemplate": "Limit: %{x}<br>Recall: %{y:.3f}<br>Search: hybridAND<br>Expand: %{customdata[0]}<br>Context Length: %{customdata[1]:,}",
         "line": {
          "color": "#636EFA"
         },
         "marker": {
          "size": [
           6
          ],
          "symbol": "circle"
         },
         "mode": "lines+markers",
         "name": "Expand 0, hybridAND",
         "type": "scatter",
         "x": [
          1
         ],
         "xaxis": "x",
         "y": [
          0.49
         ],
         "yaxis": "y"
        },
        {
         "customdata": [
          [
           0,
           271641
          ],
          [
           0,
           542733
          ],
          [
           0,
           802144
          ],
          [
           0,
           1052255
          ],
          [
           0,
           1288690
          ],
          [
           0,
           1523111
          ],
          [
           0,
           1764567
          ]
         ],
         "hovertemplate": "Limit: %{x}<br>Recall: %{y:.3f}<br>Search: semantic<br>Expand: %{customdata[0]}<br>Context Length: %{customdata[1]:,}",
         "line": {
          "color": "#636EFA"
         },
         "marker": {
          "size": [
           6,
           7,
           8,
           9,
           10,
           11,
           12
          ],
          "symbol": "diamond"
         },
         "mode": "lines+markers",
         "name": "Expand 0, semantic",
         "type": "scatter",
         "x": [
          1,
          2,
          3,
          4,
          5,
          6,
          7
         ],
         "xaxis": "x",
         "y": [
          0.46,
          0.55,
          0.6,
          0.63,
          0.66,
          0.67,
          0.68
         ],
         "yaxis": "y"
        },
        {
         "customdata": [
          [
           1,
           1059010
          ]
         ],
         "hovertemplate": "Limit: %{x}<br>Recall: %{y:.3f}<br>Search: ftsOR<br>Expand: %{customdata[0]}<br>Context Length: %{customdata[1]:,}",
         "line": {
          "color": "#EF553B"
         },
         "marker": {
          "size": [
           6
          ],
          "symbol": "square-open"
         },
         "mode": "lines+markers",
         "name": "Expand 1, ftsOR",
         "type": "scatter",
         "x": [
          1
         ],
         "xaxis": "x",
         "y": [
          0.58
         ],
         "yaxis": "y"
        },
        {
         "customdata": [],
         "hovertemplate": "Limit: %{x}<br>Recall: %{y:.3f}<br>Search: hybridAND<br>Expand: %{customdata[0]}<br>Context Length: %{customdata[1]:,}",
         "line": {
          "color": "#EF553B"
         },
         "marker": {
          "size": [],
          "symbol": "circle"
         },
         "mode": "lines+markers",
         "name": "Expand 1, hybridAND",
         "type": "scatter",
         "x": [],
         "xaxis": "x",
         "y": [],
         "yaxis": "y"
        },
        {
         "customdata": [
          [
           1,
           679813
          ],
          [
           1,
           1195600
          ],
          [
           1,
           1668870
          ],
          [
           1,
           2120119
          ],
          [
           1,
           2602518
          ],
          [
           1,
           3051403
          ],
          [
           1,
           3474308
          ]
         ],
         "hovertemplate": "Limit: %{x}<br>Recall: %{y:.3f}<br>Search: semantic<br>Expand: %{customdata[0]}<br>Context Length: %{customdata[1]:,}",
         "line": {
          "color": "#EF553B"
         },
         "marker": {
          "size": [
           6,
           7,
           8,
           9,
           10,
           11,
           12
          ],
          "symbol": "diamond"
         },
         "mode": "lines+markers",
         "name": "Expand 1, semantic",
         "type": "scatter",
         "x": [
          1,
          2,
          3,
          4,
          5,
          6,
          7
         ],
         "xaxis": "x",
         "y": [
          0.5,
          0.59,
          0.64,
          0.66,
          0.68,
          0.69,
          0.69
         ],
         "yaxis": "y"
        },
        {
         "customdata": [
          [
           2,
           1708714
          ]
         ],
         "hovertemplate": "Limit: %{x}<br>Recall: %{y:.3f}<br>Search: ftsOR<br>Expand: %{customdata[0]}<br>Context Length: %{customdata[1]:,}",
         "line": {
          "color": "#00CC96"
         },
         "marker": {
          "size": [
           6
          ],
          "symbol": "square-open"
         },
         "mode": "lines+markers",
         "name": "Expand 2, ftsOR",
         "type": "scatter",
         "x": [
          1
         ],
         "xaxis": "x",
         "y": [
          0.59
         ],
         "yaxis": "y"
        },
        {
         "customdata": [],
         "hovertemplate": "Limit: %{x}<br>Recall: %{y:.3f}<br>Search: hybridAND<br>Expand: %{customdata[0]}<br>Context Length: %{customdata[1]:,}",
         "line": {
          "color": "#00CC96"
         },
         "marker": {
          "size": [],
          "symbol": "circle"
         },
         "mode": "lines+markers",
         "name": "Expand 2, hybridAND",
         "type": "scatter",
         "x": [],
         "xaxis": "x",
         "y": [],
         "yaxis": "y"
        },
        {
         "customdata": [
          [
           2,
           1082800
          ],
          [
           2,
           1833439
          ],
          [
           2,
           2504310
          ],
          [
           2,
           3141017
          ],
          [
           2,
           3802165
          ],
          [
           2,
           4402041
          ],
          [
           2,
           4964463
          ]
         ],
         "hovertemplate": "Limit: %{x}<br>Recall: %{y:.3f}<br>Search: semantic<br>Expand: %{customdata[0]}<br>Context Length: %{customdata[1]:,}",
         "line": {
          "color": "#00CC96"
         },
         "marker": {
          "size": [
           6,
           7,
           8,
           9,
           10,
           11,
           12
          ],
          "symbol": "diamond"
         },
         "mode": "lines+markers",
         "name": "Expand 2, semantic",
         "type": "scatter",
         "x": [
          1,
          2,
          3,
          4,
          5,
          6,
          7
         ],
         "xaxis": "x",
         "y": [
          0.52,
          0.62,
          0.66,
          0.68,
          0.7,
          0.71,
          0.71
         ],
         "yaxis": "y"
        },
        {
         "customdata": [
          [
           0,
           1
          ]
         ],
         "hovertemplate": "Context Length: %{x:,}<br>Recall: %{y:.3f}<br>Search: ftsOR<br>Expand: %{customdata[0]}<br>Limit: %{customdata[1]}",
         "marker": {
          "color": "#636EFA",
          "size": [
           6
          ],
          "symbol": "square-open"
         },
         "mode": "markers+lines",
         "name": "Expand 0, ftsOR",
         "showlegend": false,
         "type": "scatter",
         "x": [
          417439
         ],
         "xaxis": "x2",
         "y": [
          0.54
         ],
         "yaxis": "y2"
        },
        {
         "customdata": [
          [
           0,
           1
          ]
         ],
         "hovertemplate": "Context Length: %{x:,}<br>Recall: %{y:.3f}<br>Search: hybridAND<br>Expand: %{customdata[0]}<br>Limit: %{customdata[1]}",
         "marker": {
          "color": "#636EFA",
          "size": [
           6
          ],
          "symbol": "circle"
         },
         "mode": "markers+lines",
         "name": "Expand 0, hybridAND",
         "showlegend": false,
         "type": "scatter",
         "x": [
          357545
         ],
         "xaxis": "x2",
         "y": [
          0.49
         ],
         "yaxis": "y2"
        },
        {
         "customdata": [
          [
           0,
           1
          ],
          [
           0,
           2
          ],
          [
           0,
           3
          ],
          [
           0,
           4
          ],
          [
           0,
           5
          ],
          [
           0,
           6
          ],
          [
           0,
           7
          ]
         ],
         "hovertemplate": "Context Length: %{x:,}<br>Recall: %{y:.3f}<br>Search: semantic<br>Expand: %{customdata[0]}<br>Limit: %{customdata[1]}",
         "marker": {
          "color": "#636EFA",
          "size": [
           6,
           7,
           8,
           9,
           10,
           11,
           12
          ],
          "symbol": "diamond"
         },
         "mode": "markers+lines",
         "name": "Expand 0, semantic",
         "showlegend": false,
         "type": "scatter",
         "x": [
          271641,
          542733,
          802144,
          1052255,
          1288690,
          1523111,
          1764567
         ],
         "xaxis": "x2",
         "y": [
          0.46,
          0.55,
          0.6,
          0.63,
          0.66,
          0.67,
          0.68
         ],
         "yaxis": "y2"
        },
        {
         "customdata": [
          [
           1,
           1
          ]
         ],
         "hovertemplate": "Context Length: %{x:,}<br>Recall: %{y:.3f}<br>Search: ftsOR<br>Expand: %{customdata[0]}<br>Limit: %{customdata[1]}",
         "marker": {
          "color": "#EF553B",
          "size": [
           6
          ],
          "symbol": "square-open"
         },
         "mode": "markers+lines",
         "name": "Expand 1, ftsOR",
         "showlegend": false,
         "type": "scatter",
         "x": [
          1059010
         ],
         "xaxis": "x2",
         "y": [
          0.58
         ],
         "yaxis": "y2"
        },
        {
         "customdata": [],
         "hovertemplate": "Context Length: %{x:,}<br>Recall: %{y:.3f}<br>Search: hybridAND<br>Expand: %{customdata[0]}<br>Limit: %{customdata[1]}",
         "marker": {
          "color": "#EF553B",
          "size": [],
          "symbol": "circle"
         },
         "mode": "markers+lines",
         "name": "Expand 1, hybridAND",
         "showlegend": false,
         "type": "scatter",
         "x": [],
         "xaxis": "x2",
         "y": [],
         "yaxis": "y2"
        },
        {
         "customdata": [
          [
           1,
           1
          ],
          [
           1,
           2
          ],
          [
           1,
           3
          ],
          [
           1,
           4
          ],
          [
           1,
           5
          ],
          [
           1,
           6
          ],
          [
           1,
           7
          ]
         ],
         "hovertemplate": "Context Length: %{x:,}<br>Recall: %{y:.3f}<br>Search: semantic<br>Expand: %{customdata[0]}<br>Limit: %{customdata[1]}",
         "marker": {
          "color": "#EF553B",
          "size": [
           6,
           7,
           8,
           9,
           10,
           11,
           12
          ],
          "symbol": "diamond"
         },
         "mode": "markers+lines",
         "name": "Expand 1, semantic",
         "showlegend": false,
         "type": "scatter",
         "x": [
          679813,
          1195600,
          1668870,
          2120119,
          2602518,
          3051403,
          3474308
         ],
         "xaxis": "x2",
         "y": [
          0.5,
          0.59,
          0.64,
          0.66,
          0.68,
          0.69,
          0.69
         ],
         "yaxis": "y2"
        },
        {
         "customdata": [
          [
           2,
           1
          ]
         ],
         "hovertemplate": "Context Length: %{x:,}<br>Recall: %{y:.3f}<br>Search: ftsOR<br>Expand: %{customdata[0]}<br>Limit: %{customdata[1]}",
         "marker": {
          "color": "#00CC96",
          "size": [
           6
          ],
          "symbol": "square-open"
         },
         "mode": "markers+lines",
         "name": "Expand 2, ftsOR",
         "showlegend": false,
         "type": "scatter",
         "x": [
          1708714
         ],
         "xaxis": "x2",
         "y": [
          0.59
         ],
         "yaxis": "y2"
        },
        {
         "customdata": [],
         "hovertemplate": "Context Length: %{x:,}<br>Recall: %{y:.3f}<br>Search: hybridAND<br>Expand: %{customdata[0]}<br>Limit: %{customdata[1]}",
         "marker": {
          "color": "#00CC96",
          "size": [],
          "symbol": "circle"
         },
         "mode": "markers+lines",
         "name": "Expand 2, hybridAND",
         "showlegend": false,
         "type": "scatter",
         "x": [],
         "xaxis": "x2",
         "y": [],
         "yaxis": "y2"
        },
        {
         "customdata": [
          [
           2,
           1
          ],
          [
           2,
           2
          ],
          [
           2,
           3
          ],
          [
           2,
           4
          ],
          [
           2,
           5
          ],
          [
           2,
           6
          ],
          [
           2,
           7
          ]
         ],
         "hovertemplate": "Context Length: %{x:,}<br>Recall: %{y:.3f}<br>Search: semantic<br>Expand: %{customdata[0]}<br>Limit: %{customdata[1]}",
         "marker": {
          "color": "#00CC96",
          "size": [
           6,
           7,
           8,
           9,
           10,
           11,
           12
          ],
          "symbol": "diamond"
         },
         "mode": "markers+lines",
         "name": "Expand 2, semantic",
         "showlegend": false,
         "type": "scatter",
         "x": [
          1082800,
          1833439,
          2504310,
          3141017,
          3802165,
          4402041,
          4964463
         ],
         "xaxis": "x2",
         "y": [
          0.52,
          0.62,
          0.66,
          0.68,
          0.7,
          0.71,
          0.71
         ],
         "yaxis": "y2"
        }
       ],
       "layout": {
        "annotations": [
         {
          "font": {
           "size": 16
          },
          "showarrow": false,
          "text": "Recall vs Limit",
          "x": 0.5,
          "xanchor": "center",
          "xref": "paper",
          "y": 1,
          "yanchor": "bottom",
          "yref": "paper"
         },
         {
          "font": {
           "size": 16
          },
          "showarrow": false,
          "text": "Recall vs Context Length",
          "x": 0.5,
          "xanchor": "center",
          "xref": "paper",
          "y": 0.375,
          "yanchor": "bottom",
          "yref": "paper"
         }
        ],
        "height": 800,
        "legend": {
         "title": {
          "text": "Configuration"
         }
        },
        "template": {
         "data": {
          "bar": [
           {
            "error_x": {
             "color": "#f2f5fa"
            },
            "error_y": {
             "color": "#f2f5fa"
            },
            "marker": {
             "line": {
              "color": "rgb(17,17,17)",
              "width": 0.5
             },
             "pattern": {
              "fillmode": "overlay",
              "size": 10,
              "solidity": 0.2
             }
            },
            "type": "bar"
           }
          ],
          "barpolar": [
           {
            "marker": {
             "line": {
              "color": "rgb(17,17,17)",
              "width": 0.5
             },
             "pattern": {
              "fillmode": "overlay",
              "size": 10,
              "solidity": 0.2
             }
            },
            "type": "barpolar"
           }
          ],
          "carpet": [
           {
            "aaxis": {
             "endlinecolor": "#A2B1C6",
             "gridcolor": "#506784",
             "linecolor": "#506784",
             "minorgridcolor": "#506784",
             "startlinecolor": "#A2B1C6"
            },
            "baxis": {
             "endlinecolor": "#A2B1C6",
             "gridcolor": "#506784",
             "linecolor": "#506784",
             "minorgridcolor": "#506784",
             "startlinecolor": "#A2B1C6"
            },
            "type": "carpet"
           }
          ],
          "choropleth": [
           {
            "colorbar": {
             "outlinewidth": 0,
             "ticks": ""
            },
            "type": "choropleth"
           }
          ],
          "contour": [
           {
            "colorbar": {
             "outlinewidth": 0,
             "ticks": ""
            },
            "colorscale": [
             [
              0,
              "#0d0887"
             ],
             [
              0.1111111111111111,
              "#46039f"
             ],
             [
              0.2222222222222222,
              "#7201a8"
             ],
             [
              0.3333333333333333,
              "#9c179e"
             ],
             [
              0.4444444444444444,
              "#bd3786"
             ],
             [
              0.5555555555555556,
              "#d8576b"
             ],
             [
              0.6666666666666666,
              "#ed7953"
             ],
             [
              0.7777777777777778,
              "#fb9f3a"
             ],
             [
              0.8888888888888888,
              "#fdca26"
             ],
             [
              1,
              "#f0f921"
             ]
            ],
            "type": "contour"
           }
          ],
          "contourcarpet": [
           {
            "colorbar": {
             "outlinewidth": 0,
             "ticks": ""
            },
            "type": "contourcarpet"
           }
          ],
          "heatmap": [
           {
            "colorbar": {
             "outlinewidth": 0,
             "ticks": ""
            },
            "colorscale": [
             [
              0,
              "#0d0887"
             ],
             [
              0.1111111111111111,
              "#46039f"
             ],
             [
              0.2222222222222222,
              "#7201a8"
             ],
             [
              0.3333333333333333,
              "#9c179e"
             ],
             [
              0.4444444444444444,
              "#bd3786"
             ],
             [
              0.5555555555555556,
              "#d8576b"
             ],
             [
              0.6666666666666666,
              "#ed7953"
             ],
             [
              0.7777777777777778,
              "#fb9f3a"
             ],
             [
              0.8888888888888888,
              "#fdca26"
             ],
             [
              1,
              "#f0f921"
             ]
            ],
            "type": "heatmap"
           }
          ],
          "heatmapgl": [
           {
            "colorbar": {
             "outlinewidth": 0,
             "ticks": ""
            },
            "colorscale": [
             [
              0,
              "#0d0887"
             ],
             [
              0.1111111111111111,
              "#46039f"
             ],
             [
              0.2222222222222222,
              "#7201a8"
             ],
             [
              0.3333333333333333,
              "#9c179e"
             ],
             [
              0.4444444444444444,
              "#bd3786"
             ],
             [
              0.5555555555555556,
              "#d8576b"
             ],
             [
              0.6666666666666666,
              "#ed7953"
             ],
             [
              0.7777777777777778,
              "#fb9f3a"
             ],
             [
              0.8888888888888888,
              "#fdca26"
             ],
             [
              1,
              "#f0f921"
             ]
            ],
            "type": "heatmapgl"
           }
          ],
          "histogram": [
           {
            "marker": {
             "pattern": {
              "fillmode": "overlay",
              "size": 10,
              "solidity": 0.2
             }
            },
            "type": "histogram"
           }
          ],
          "histogram2d": [
           {
            "colorbar": {
             "outlinewidth": 0,
             "ticks": ""
            },
            "colorscale": [
             [
              0,
              "#0d0887"
             ],
             [
              0.1111111111111111,
              "#46039f"
             ],
             [
              0.2222222222222222,
              "#7201a8"
             ],
             [
              0.3333333333333333,
              "#9c179e"
             ],
             [
              0.4444444444444444,
              "#bd3786"
             ],
             [
              0.5555555555555556,
              "#d8576b"
             ],
             [
              0.6666666666666666,
              "#ed7953"
             ],
             [
              0.7777777777777778,
              "#fb9f3a"
             ],
             [
              0.8888888888888888,
              "#fdca26"
             ],
             [
              1,
              "#f0f921"
             ]
            ],
            "type": "histogram2d"
           }
          ],
          "histogram2dcontour": [
           {
            "colorbar": {
             "outlinewidth": 0,
             "ticks": ""
            },
            "colorscale": [
             [
              0,
              "#0d0887"
             ],
             [
              0.1111111111111111,
              "#46039f"
             ],
             [
              0.2222222222222222,
              "#7201a8"
             ],
             [
              0.3333333333333333,
              "#9c179e"
             ],
             [
              0.4444444444444444,
              "#bd3786"
             ],
             [
              0.5555555555555556,
              "#d8576b"
             ],
             [
              0.6666666666666666,
              "#ed7953"
             ],
             [
              0.7777777777777778,
              "#fb9f3a"
             ],
             [
              0.8888888888888888,
              "#fdca26"
             ],
             [
              1,
              "#f0f921"
             ]
            ],
            "type": "histogram2dcontour"
           }
          ],
          "mesh3d": [
           {
            "colorbar": {
             "outlinewidth": 0,
             "ticks": ""
            },
            "type": "mesh3d"
           }
          ],
          "parcoords": [
           {
            "line": {
             "colorbar": {
              "outlinewidth": 0,
              "ticks": ""
             }
            },
            "type": "parcoords"
           }
          ],
          "pie": [
           {
            "automargin": true,
            "type": "pie"
           }
          ],
          "scatter": [
           {
            "marker": {
             "line": {
              "color": "#283442"
             }
            },
            "type": "scatter"
           }
          ],
          "scatter3d": [
           {
            "line": {
             "colorbar": {
              "outlinewidth": 0,
              "ticks": ""
             }
            },
            "marker": {
             "colorbar": {
              "outlinewidth": 0,
              "ticks": ""
             }
            },
            "type": "scatter3d"
           }
          ],
          "scattercarpet": [
           {
            "marker": {
             "colorbar": {
              "outlinewidth": 0,
              "ticks": ""
             }
            },
            "type": "scattercarpet"
           }
          ],
          "scattergeo": [
           {
            "marker": {
             "colorbar": {
              "outlinewidth": 0,
              "ticks": ""
             }
            },
            "type": "scattergeo"
           }
          ],
          "scattergl": [
           {
            "marker": {
             "line": {
              "color": "#283442"
             }
            },
            "type": "scattergl"
           }
          ],
          "scattermapbox": [
           {
            "marker": {
             "colorbar": {
              "outlinewidth": 0,
              "ticks": ""
             }
            },
            "type": "scattermapbox"
           }
          ],
          "scatterpolar": [
           {
            "marker": {
             "colorbar": {
              "outlinewidth": 0,
              "ticks": ""
             }
            },
            "type": "scatterpolar"
           }
          ],
          "scatterpolargl": [
           {
            "marker": {
             "colorbar": {
              "outlinewidth": 0,
              "ticks": ""
             }
            },
            "type": "scatterpolargl"
           }
          ],
          "scatterternary": [
           {
            "marker": {
             "colorbar": {
              "outlinewidth": 0,
              "ticks": ""
             }
            },
            "type": "scatterternary"
           }
          ],
          "surface": [
           {
            "colorbar": {
             "outlinewidth": 0,
             "ticks": ""
            },
            "colorscale": [
             [
              0,
              "#0d0887"
             ],
             [
              0.1111111111111111,
              "#46039f"
             ],
             [
              0.2222222222222222,
              "#7201a8"
             ],
             [
              0.3333333333333333,
              "#9c179e"
             ],
             [
              0.4444444444444444,
              "#bd3786"
             ],
             [
              0.5555555555555556,
              "#d8576b"
             ],
             [
              0.6666666666666666,
              "#ed7953"
             ],
             [
              0.7777777777777778,
              "#fb9f3a"
             ],
             [
              0.8888888888888888,
              "#fdca26"
             ],
             [
              1,
              "#f0f921"
             ]
            ],
            "type": "surface"
           }
          ],
          "table": [
           {
            "cells": {
             "fill": {
              "color": "#506784"
             },
             "line": {
              "color": "rgb(17,17,17)"
             }
            },
            "header": {
             "fill": {
              "color": "#2a3f5f"
             },
             "line": {
              "color": "rgb(17,17,17)"
             }
            },
            "type": "table"
           }
          ]
         },
         "layout": {
          "annotationdefaults": {
           "arrowcolor": "#f2f5fa",
           "arrowhead": 0,
           "arrowwidth": 1
          },
          "autotypenumbers": "strict",
          "coloraxis": {
           "colorbar": {
            "outlinewidth": 0,
            "ticks": ""
           }
          },
          "colorscale": {
           "diverging": [
            [
             0,
             "#8e0152"
            ],
            [
             0.1,
             "#c51b7d"
            ],
            [
             0.2,
             "#de77ae"
            ],
            [
             0.3,
             "#f1b6da"
            ],
            [
             0.4,
             "#fde0ef"
            ],
            [
             0.5,
             "#f7f7f7"
            ],
            [
             0.6,
             "#e6f5d0"
            ],
            [
             0.7,
             "#b8e186"
            ],
            [
             0.8,
             "#7fbc41"
            ],
            [
             0.9,
             "#4d9221"
            ],
            [
             1,
             "#276419"
            ]
           ],
           "sequential": [
            [
             0,
             "#0d0887"
            ],
            [
             0.1111111111111111,
             "#46039f"
            ],
            [
             0.2222222222222222,
             "#7201a8"
            ],
            [
             0.3333333333333333,
             "#9c179e"
            ],
            [
             0.4444444444444444,
             "#bd3786"
            ],
            [
             0.5555555555555556,
             "#d8576b"
            ],
            [
             0.6666666666666666,
             "#ed7953"
            ],
            [
             0.7777777777777778,
             "#fb9f3a"
            ],
            [
             0.8888888888888888,
             "#fdca26"
            ],
            [
             1,
             "#f0f921"
            ]
           ],
           "sequentialminus": [
            [
             0,
             "#0d0887"
            ],
            [
             0.1111111111111111,
             "#46039f"
            ],
            [
             0.2222222222222222,
             "#7201a8"
            ],
            [
             0.3333333333333333,
             "#9c179e"
            ],
            [
             0.4444444444444444,
             "#bd3786"
            ],
            [
             0.5555555555555556,
             "#d8576b"
            ],
            [
             0.6666666666666666,
             "#ed7953"
            ],
            [
             0.7777777777777778,
             "#fb9f3a"
            ],
            [
             0.8888888888888888,
             "#fdca26"
            ],
            [
             1,
             "#f0f921"
            ]
           ]
          },
          "colorway": [
           "#636efa",
           "#EF553B",
           "#00cc96",
           "#ab63fa",
           "#FFA15A",
           "#19d3f3",
           "#FF6692",
           "#B6E880",
           "#FF97FF",
           "#FECB52"
          ],
          "font": {
           "color": "#f2f5fa"
          },
          "geo": {
           "bgcolor": "rgb(17,17,17)",
           "lakecolor": "rgb(17,17,17)",
           "landcolor": "rgb(17,17,17)",
           "showlakes": true,
           "showland": true,
           "subunitcolor": "#506784"
          },
          "hoverlabel": {
           "align": "left"
          },
          "hovermode": "closest",
          "mapbox": {
           "style": "dark"
          },
          "paper_bgcolor": "rgb(17,17,17)",
          "plot_bgcolor": "rgb(17,17,17)",
          "polar": {
           "angularaxis": {
            "gridcolor": "#506784",
            "linecolor": "#506784",
            "ticks": ""
           },
           "bgcolor": "rgb(17,17,17)",
           "radialaxis": {
            "gridcolor": "#506784",
            "linecolor": "#506784",
            "ticks": ""
           }
          },
          "scene": {
           "xaxis": {
            "backgroundcolor": "rgb(17,17,17)",
            "gridcolor": "#506784",
            "gridwidth": 2,
            "linecolor": "#506784",
            "showbackground": true,
            "ticks": "",
            "zerolinecolor": "#C8D4E3"
           },
           "yaxis": {
            "backgroundcolor": "rgb(17,17,17)",
            "gridcolor": "#506784",
            "gridwidth": 2,
            "linecolor": "#506784",
            "showbackground": true,
            "ticks": "",
            "zerolinecolor": "#C8D4E3"
           },
           "zaxis": {
            "backgroundcolor": "rgb(17,17,17)",
            "gridcolor": "#506784",
            "gridwidth": 2,
            "linecolor": "#506784",
            "showbackground": true,
            "ticks": "",
            "zerolinecolor": "#C8D4E3"
           }
          },
          "shapedefaults": {
           "line": {
            "color": "#f2f5fa"
           }
          },
          "sliderdefaults": {
           "bgcolor": "#C8D4E3",
           "bordercolor": "rgb(17,17,17)",
           "borderwidth": 1,
           "tickwidth": 0
          },
          "ternary": {
           "aaxis": {
            "gridcolor": "#506784",
            "linecolor": "#506784",
            "ticks": ""
           },
           "baxis": {
            "gridcolor": "#506784",
            "linecolor": "#506784",
            "ticks": ""
           },
           "bgcolor": "rgb(17,17,17)",
           "caxis": {
            "gridcolor": "#506784",
            "linecolor": "#506784",
            "ticks": ""
           }
          },
          "title": {
           "x": 0.05
          },
          "updatemenudefaults": {
           "bgcolor": "#506784",
           "borderwidth": 0
          },
          "xaxis": {
           "automargin": true,
           "gridcolor": "#283442",
           "linecolor": "#506784",
           "ticks": "",
           "title": {
            "standoff": 15
           },
           "zerolinecolor": "#283442",
           "zerolinewidth": 2
          },
          "yaxis": {
           "automargin": true,
           "gridcolor": "#283442",
           "linecolor": "#506784",
           "ticks": "",
           "title": {
            "standoff": 15
           },
           "zerolinecolor": "#283442",
           "zerolinewidth": 2
          }
         }
        },
        "xaxis": {
         "anchor": "y",
         "domain": [
          0,
          1
         ],
         "title": {
          "text": "Limit"
         }
        },
        "xaxis2": {
         "anchor": "y2",
         "domain": [
          0,
          1
         ],
         "title": {
          "text": "Context Length"
         }
        },
        "yaxis": {
         "anchor": "x",
         "domain": [
          0.625,
          1
         ],
         "title": {
          "text": "Recall"
         }
        },
        "yaxis2": {
         "anchor": "x2",
         "domain": [
          0,
          0.375
         ],
         "title": {
          "text": "Recall"
         }
        }
       }
      }
     },
     "metadata": {},
     "output_type": "display_data"
    }
   ],
   "source": [
    "# # Create two subplots vertically stacked\n",
    "# fig = make_subplots(rows=2, cols=1, \n",
    "#                     subplot_titles=(\n",
    "#                         \"Recall vs Limit\",\n",
    "#                         \"Recall vs Context Length\"\n",
    "#                     ))\n",
    "\n",
    "# # Define colors for expand values and markers for search types\n",
    "# colors = ['#636EFA', '#EF553B', '#00CC96']  # Default plotly colors\n",
    "# search_markers = {\n",
    "#     'hybridAND': 'circle',\n",
    "#     'hybridOR': 'circle-open',\n",
    "#     'semantic': 'diamond',\n",
    "#     'ftsAND': 'square',\n",
    "#     'ftsOR': 'square-open'\n",
    "# }\n",
    "\n",
    "# # First plot: Recall vs Limit\n",
    "# for i, expand_val in enumerate(df_summary['expand'].unique()):\n",
    "#     for search_type in df_summary['search'].unique():\n",
    "#         df_filtered = df_summary[\n",
    "#             (df_summary['expand'] == expand_val) & \n",
    "#             (df_summary['search'] == search_type)\n",
    "#         ]\n",
    "        \n",
    "#         fig.add_trace(\n",
    "#             go.Scatter(\n",
    "#                 x=df_filtered['lim'],\n",
    "#                 y=df_filtered['recall'],\n",
    "#                 mode='lines+markers',\n",
    "#                 name=f'Expand {expand_val}, {search_type}',\n",
    "#                 line=dict(color=colors[i]),\n",
    "#                 marker=dict(\n",
    "#                     symbol=search_markers[search_type], \n",
    "#                     size=df_filtered['lim']+5,\n",
    "#                 ),\n",
    "#                 hovertemplate=\"<br>\".join([\n",
    "#                     \"Limit: %{x}\",\n",
    "#                     \"Recall: %{y:.3f}\",\n",
    "#                     \"Search: \" + search_type,\n",
    "#                     \"Expand: %{customdata[0]}\",\n",
    "#                     \"Context Length: %{customdata[1]:,}\",\n",
    "#                 ]),\n",
    "#                 customdata=df_filtered[['expand', 'len_context']].values\n",
    "#             ),\n",
    "#             row=1, col=1\n",
    "#         )\n",
    "\n",
    "# # Second plot: Recall vs Context Length\n",
    "# for i, expand_val in enumerate(df_summary['expand'].unique()):\n",
    "#     for search_type in df_summary['search'].unique():\n",
    "#         df_filtered = df_summary[\n",
    "#             (df_summary['expand'] == expand_val) & \n",
    "#             (df_summary['search'] == search_type)\n",
    "#         ]\n",
    "        \n",
    "#         fig.add_trace(\n",
    "#             go.Scatter(\n",
    "#                 x=df_filtered['len_context'],\n",
    "#                 y=df_filtered['recall'],\n",
    "#                 mode='markers+lines',\n",
    "#                 name=f'Expand {expand_val}, {search_type}',\n",
    "#                 marker=dict(\n",
    "#                     color=colors[i],\n",
    "#                     symbol=search_markers[search_type],\n",
    "#                     size=df_filtered['lim']+5,\n",
    "#                 ),\n",
    "#                 hovertemplate=\"<br>\".join([\n",
    "#                     \"Context Length: %{x:,}\",\n",
    "#                     \"Recall: %{y:.3f}\",\n",
    "#                     \"Search: \" + search_type,\n",
    "#                     \"Expand: %{customdata[0]}\",\n",
    "#                     \"Limit: %{customdata[1]}\",\n",
    "#                 ]),\n",
    "#                 customdata=df_filtered[['expand', 'lim']].values,\n",
    "#                 showlegend=False\n",
    "#             ),\n",
    "#             row=2, col=1\n",
    "#         )\n",
    "\n",
    "# # Update layout for dark theme and other customizations\n",
    "# fig.update_layout(\n",
    "#     template=\"plotly_dark\",\n",
    "#     height=800,\n",
    "#     legend_title=\"Configuration\",\n",
    "#     xaxis_title=\"Limit\",\n",
    "#     xaxis2_title=\"Context Length\",\n",
    "#     yaxis_title=\"Recall\",\n",
    "#     yaxis2_title=\"Recall\"\n",
    "# )\n",
    "\n",
    "# # Set y-axes to start at 0\n",
    "# # fig.update_yaxes(range=[0, None], row=1, col=1)\n",
    "# # fig.update_yaxes(range=[0, None], row=2, col=1)\n",
    "\n",
    "# fig.show()"
   ]
  },
  {
   "cell_type": "code",
   "execution_count": null,
   "id": "e2070fd9",
   "metadata": {},
   "outputs": [],
   "source": []
  },
  {
   "cell_type": "code",
   "execution_count": null,
   "id": "e180aa5b",
   "metadata": {},
   "outputs": [],
   "source": []
  },
  {
   "cell_type": "code",
   "execution_count": 74,
   "id": "1aa2de36",
   "metadata": {},
   "outputs": [
    {
     "name": "stdout",
     "output_type": "stream",
     "text": [
      "None\n"
     ]
    }
   ],
   "source": [
    "print(None)"
   ]
  },
  {
   "cell_type": "code",
   "execution_count": null,
   "id": "489798f4",
   "metadata": {},
   "outputs": [],
   "source": []
  }
 ],
 "metadata": {
  "kernelspec": {
   "display_name": "ultirag",
   "language": "python",
   "name": "python3"
  },
  "language_info": {
   "codemirror_mode": {
    "name": "ipython",
    "version": 3
   },
   "file_extension": ".py",
   "mimetype": "text/x-python",
   "name": "python",
   "nbconvert_exporter": "python",
   "pygments_lexer": "ipython3",
   "version": "3.12.6"
  }
 },
 "nbformat": 4,
 "nbformat_minor": 5
}
